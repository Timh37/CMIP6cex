{
 "cells": [
  {
   "cell_type": "code",
   "execution_count": 1,
   "id": "9f0ff811-96d3-4c4b-ae9c-5c34ea682794",
   "metadata": {},
   "outputs": [
    {
     "name": "stderr",
     "output_type": "stream",
     "text": [
      "/tmp/ipykernel_810/3693849798.py:9: TqdmExperimentalWarning: Using `tqdm.autonotebook.tqdm` in notebook mode. Use `tqdm.tqdm` instead to force console mode (e.g. in jupyter console)\n",
      "  from tqdm.autonotebook import tqdm  # Fancy progress bars for our loops!\n"
     ]
    }
   ],
   "source": [
    "import numpy as np\n",
    "import pandas as pd\n",
    "import xarray as xr\n",
    "import xesmf as xe\n",
    "import dask\n",
    "import intake\n",
    "import fsspec\n",
    "from collections import defaultdict\n",
    "from tqdm.autonotebook import tqdm  # Fancy progress bars for our loops!\n",
    "from xmip.utils import google_cmip_col\n",
    "from xmip.preprocessing import combined_preprocessing\n",
    "from xmip.postprocessing import merge_variables"
   ]
  },
  {
   "cell_type": "code",
   "execution_count": 2,
   "id": "275aec62-ab17-43c9-bea6-ba3917c6ed39",
   "metadata": {},
   "outputs": [],
   "source": [
    "def regrid_to_era5(ds,era5_grid):\n",
    "    \"\"\"wrapper around xesmf regridding\"\"\"\n",
    "    regridder = xe.Regridder(ds,era5_grid,'bilinear',ignore_degenerate=True)\n",
    "    \n",
    "    return regridder(ds)\n"
   ]
  },
  {
   "cell_type": "code",
   "execution_count": 3,
   "id": "0e4d6c24-cedc-439a-b12c-30110aaaa899",
   "metadata": {},
   "outputs": [
    {
     "name": "stderr",
     "output_type": "stream",
     "text": [
      "/tmp/ipykernel_810/3627879381.py:22: DeprecationWarning: cdf_kwargs and zarr_kwargs are deprecated and will be removed in a future version. Please use xarray_open_kwargs instead.\n",
      "  ddict = cat_data.to_dataset_dict(**kwargs)\n"
     ]
    },
    {
     "name": "stdout",
     "output_type": "stream",
     "text": [
      "\n",
      "--> The keys in the returned dictionary of datasets are constructed as follows:\n",
      "\t'activity_id.institution_id.source_id.experiment_id.member_id.table_id.variable_id.grid_label.zstore.dcpp_init_year.version'\n"
     ]
    },
    {
     "data": {
      "text/html": [
       "\n",
       "<style>\n",
       "    /* Turns off some styling */\n",
       "    progress {\n",
       "        /* gets rid of default border in Firefox and Opera. */\n",
       "        border: none;\n",
       "        /* Needs to be in here for Safari polyfill so background images work as expected. */\n",
       "        background-size: auto;\n",
       "    }\n",
       "    progress:not([value]), progress:not([value])::-webkit-progress-bar {\n",
       "        background: repeating-linear-gradient(45deg, #7e7e7e, #7e7e7e 10px, #5c5c5c 10px, #5c5c5c 20px);\n",
       "    }\n",
       "    .progress-bar-interrupted, .progress-bar-interrupted::-webkit-progress-bar {\n",
       "        background: #F44336;\n",
       "    }\n",
       "</style>\n"
      ],
      "text/plain": [
       "<IPython.core.display.HTML object>"
      ]
     },
     "metadata": {},
     "output_type": "display_data"
    },
    {
     "data": {
      "text/html": [
       "\n",
       "    <div>\n",
       "      <progress value='164' class='' max='164' style='width:300px; height:20px; vertical-align: middle;'></progress>\n",
       "      100.00% [164/164 00:33&lt;00:00]\n",
       "    </div>\n",
       "    "
      ],
      "text/plain": [
       "<IPython.core.display.HTML object>"
      ]
     },
     "metadata": {},
     "output_type": "display_data"
    }
   ],
   "source": [
    "my_models = ['BCC-CSM2-MR','CESM2''CESM2-WACCM','CMCC-ESM2','CMCC-CM2-SR5','EC-Earth3',\n",
    "                'GFDL-CM4','GFDL-ESM4','HadGEM3-GC31-MM','MIROC6','MPI-ESM1-2-HR','MRI-ESM2-0',\n",
    "                'NorESM2-MM','TaiESM1']\n",
    "\n",
    "col = google_cmip_col()\n",
    "experiment_id='ssp585'\n",
    "source_id = my_models\n",
    "kwargs = {\n",
    "    'zarr_kwargs':{\n",
    "        'consolidated':True,\n",
    "        'use_cftime':True\n",
    "    },\n",
    "    'aggregate':False\n",
    "}\n",
    "\n",
    "cat_data = col.search(\n",
    "    source_id=source_id,\n",
    "    experiment_id=experiment_id,\n",
    "    table_id='day',\n",
    "    variable_id=['psl','sfcWind']\n",
    ")\n",
    "ddict = cat_data.to_dataset_dict(**kwargs)\n",
    "\n",
    "#NB: I'm not applying any preprocessing/renaming here at the moment because the regridding seems to work fine. The atmospheric fields are typically a bit more straightforward to handle."
   ]
  },
  {
   "cell_type": "code",
   "execution_count": 4,
   "id": "03d613d7-8240-489d-b908-0b85f16b8579",
   "metadata": {},
   "outputs": [
    {
     "name": "stderr",
     "output_type": "stream",
     "text": [
      "/srv/conda/envs/notebook/lib/python3.10/site-packages/xmip/postprocessing.py:157: UserWarning: ScenarioMIP.EC-Earth-Consortium.EC-Earth3.ssp585.r121i1p1f1.day.gr.none.psl failed to combine with :cannot align objects with join='exact' where index/labels/sizes are not equal along these coordinates (dimensions): 'time' ('time',)\n",
      "  warnings.warn(f\"{cmip6_dataset_id(ds)} failed to combine with :{e}\")\n",
      "/srv/conda/envs/notebook/lib/python3.10/site-packages/xmip/postprocessing.py:157: UserWarning: ScenarioMIP.EC-Earth-Consortium.EC-Earth3.ssp585.r103i1p1f1.day.gr.none.psl failed to combine with :cannot align objects with join='exact' where index/labels/sizes are not equal along these coordinates (dimensions): 'time' ('time',)\n",
      "  warnings.warn(f\"{cmip6_dataset_id(ds)} failed to combine with :{e}\")\n",
      "/srv/conda/envs/notebook/lib/python3.10/site-packages/xmip/postprocessing.py:157: UserWarning: ScenarioMIP.EC-Earth-Consortium.EC-Earth3.ssp585.r120i1p1f1.day.gr.none.psl failed to combine with :cannot align objects with join='exact' where index/labels/sizes are not equal along these coordinates (dimensions): 'time' ('time',)\n",
      "  warnings.warn(f\"{cmip6_dataset_id(ds)} failed to combine with :{e}\")\n",
      "/srv/conda/envs/notebook/lib/python3.10/site-packages/xmip/postprocessing.py:157: UserWarning: ScenarioMIP.EC-Earth-Consortium.EC-Earth3.ssp585.r124i1p1f1.day.gr.none.sfcWind failed to combine with :cannot align objects with join='exact' where index/labels/sizes are not equal along these coordinates (dimensions): 'time' ('time',)\n",
      "  warnings.warn(f\"{cmip6_dataset_id(ds)} failed to combine with :{e}\")\n",
      "/srv/conda/envs/notebook/lib/python3.10/site-packages/xmip/postprocessing.py:157: UserWarning: ScenarioMIP.MOHC.HadGEM3-GC31-MM.ssp585.r2i1p1f3.day.gn.none.psl failed to combine with :cannot align objects with join='exact' where index/labels/sizes are not equal along these coordinates (dimensions): 'time' ('time',)\n",
      "  warnings.warn(f\"{cmip6_dataset_id(ds)} failed to combine with :{e}\")\n",
      "/srv/conda/envs/notebook/lib/python3.10/site-packages/xmip/postprocessing.py:157: UserWarning: ScenarioMIP.EC-Earth-Consortium.EC-Earth3.ssp585.r118i1p1f1.day.gr.none.psl failed to combine with :cannot align objects with join='exact' where index/labels/sizes are not equal along these coordinates (dimensions): 'time' ('time',)\n",
      "  warnings.warn(f\"{cmip6_dataset_id(ds)} failed to combine with :{e}\")\n",
      "/srv/conda/envs/notebook/lib/python3.10/site-packages/xmip/postprocessing.py:157: UserWarning: ScenarioMIP.EC-Earth-Consortium.EC-Earth3.ssp585.r107i1p1f1.day.gr.none.sfcWind failed to combine with :cannot align objects with join='exact' where index/labels/sizes are not equal along these coordinates (dimensions): 'time' ('time',)\n",
      "  warnings.warn(f\"{cmip6_dataset_id(ds)} failed to combine with :{e}\")\n",
      "/srv/conda/envs/notebook/lib/python3.10/site-packages/xmip/postprocessing.py:157: UserWarning: ScenarioMIP.EC-Earth-Consortium.EC-Earth3.ssp585.r112i1p1f1.day.gr.none.psl failed to combine with :cannot align objects with join='exact' where index/labels/sizes are not equal along these coordinates (dimensions): 'time' ('time',)\n",
      "  warnings.warn(f\"{cmip6_dataset_id(ds)} failed to combine with :{e}\")\n",
      "/srv/conda/envs/notebook/lib/python3.10/site-packages/xmip/postprocessing.py:157: UserWarning: ScenarioMIP.EC-Earth-Consortium.EC-Earth3.ssp585.r126i1p1f1.day.gr.none.sfcWind failed to combine with :cannot align objects with join='exact' where index/labels/sizes are not equal along these coordinates (dimensions): 'time' ('time',)\n",
      "  warnings.warn(f\"{cmip6_dataset_id(ds)} failed to combine with :{e}\")\n",
      "/srv/conda/envs/notebook/lib/python3.10/site-packages/xmip/postprocessing.py:157: UserWarning: ScenarioMIP.EC-Earth-Consortium.EC-Earth3.ssp585.r123i1p1f1.day.gr.none.sfcWind failed to combine with :cannot align objects with join='exact' where index/labels/sizes are not equal along these coordinates (dimensions): 'time' ('time',)\n",
      "  warnings.warn(f\"{cmip6_dataset_id(ds)} failed to combine with :{e}\")\n",
      "/srv/conda/envs/notebook/lib/python3.10/site-packages/xmip/postprocessing.py:157: UserWarning: ScenarioMIP.EC-Earth-Consortium.EC-Earth3.ssp585.r111i1p1f1.day.gr.none.sfcWind failed to combine with :cannot align objects with join='exact' where index/labels/sizes are not equal along these coordinates (dimensions): 'time' ('time',)\n",
      "  warnings.warn(f\"{cmip6_dataset_id(ds)} failed to combine with :{e}\")\n",
      "/srv/conda/envs/notebook/lib/python3.10/site-packages/xmip/postprocessing.py:157: UserWarning: ScenarioMIP.EC-Earth-Consortium.EC-Earth3.ssp585.r113i1p1f1.day.gr.none.psl failed to combine with :cannot align objects with join='exact' where index/labels/sizes are not equal along these coordinates (dimensions): 'time' ('time',)\n",
      "  warnings.warn(f\"{cmip6_dataset_id(ds)} failed to combine with :{e}\")\n",
      "/srv/conda/envs/notebook/lib/python3.10/site-packages/xmip/postprocessing.py:157: UserWarning: ScenarioMIP.EC-Earth-Consortium.EC-Earth3.ssp585.r110i1p1f1.day.gr.none.sfcWind failed to combine with :cannot align objects with join='exact' where index/labels/sizes are not equal along these coordinates (dimensions): 'time' ('time',)\n",
      "  warnings.warn(f\"{cmip6_dataset_id(ds)} failed to combine with :{e}\")\n",
      "/srv/conda/envs/notebook/lib/python3.10/site-packages/xmip/postprocessing.py:157: UserWarning: ScenarioMIP.EC-Earth-Consortium.EC-Earth3.ssp585.r115i1p1f1.day.gr.none.sfcWind failed to combine with :cannot align objects with join='exact' where index/labels/sizes are not equal along these coordinates (dimensions): 'time' ('time',)\n",
      "  warnings.warn(f\"{cmip6_dataset_id(ds)} failed to combine with :{e}\")\n",
      "/srv/conda/envs/notebook/lib/python3.10/site-packages/xmip/postprocessing.py:157: UserWarning: ScenarioMIP.EC-Earth-Consortium.EC-Earth3.ssp585.r108i1p1f1.day.gr.none.sfcWind failed to combine with :cannot align objects with join='exact' where index/labels/sizes are not equal along these coordinates (dimensions): 'time' ('time',)\n",
      "  warnings.warn(f\"{cmip6_dataset_id(ds)} failed to combine with :{e}\")\n",
      "/srv/conda/envs/notebook/lib/python3.10/site-packages/xmip/postprocessing.py:157: UserWarning: ScenarioMIP.EC-Earth-Consortium.EC-Earth3.ssp585.r105i1p1f1.day.gr.none.sfcWind failed to combine with :cannot align objects with join='exact' where index/labels/sizes are not equal along these coordinates (dimensions): 'time' ('time',)\n",
      "  warnings.warn(f\"{cmip6_dataset_id(ds)} failed to combine with :{e}\")\n",
      "/srv/conda/envs/notebook/lib/python3.10/site-packages/xmip/postprocessing.py:157: UserWarning: ScenarioMIP.EC-Earth-Consortium.EC-Earth3.ssp585.r117i1p1f1.day.gr.none.sfcWind failed to combine with :cannot align objects with join='exact' where index/labels/sizes are not equal along these coordinates (dimensions): 'time' ('time',)\n",
      "  warnings.warn(f\"{cmip6_dataset_id(ds)} failed to combine with :{e}\")\n",
      "/srv/conda/envs/notebook/lib/python3.10/site-packages/xmip/postprocessing.py:157: UserWarning: ScenarioMIP.EC-Earth-Consortium.EC-Earth3.ssp585.r114i1p1f1.day.gr.none.psl failed to combine with :cannot align objects with join='exact' where index/labels/sizes are not equal along these coordinates (dimensions): 'time' ('time',)\n",
      "  warnings.warn(f\"{cmip6_dataset_id(ds)} failed to combine with :{e}\")\n",
      "/srv/conda/envs/notebook/lib/python3.10/site-packages/xmip/postprocessing.py:157: UserWarning: ScenarioMIP.EC-Earth-Consortium.EC-Earth3.ssp585.r122i1p1f1.day.gr.none.sfcWind failed to combine with :cannot align objects with join='exact' where index/labels/sizes are not equal along these coordinates (dimensions): 'time' ('time',)\n",
      "  warnings.warn(f\"{cmip6_dataset_id(ds)} failed to combine with :{e}\")\n",
      "/srv/conda/envs/notebook/lib/python3.10/site-packages/xmip/postprocessing.py:157: UserWarning: ScenarioMIP.EC-Earth-Consortium.EC-Earth3.ssp585.r125i1p1f1.day.gr.none.sfcWind failed to combine with :cannot align objects with join='exact' where index/labels/sizes are not equal along these coordinates (dimensions): 'time' ('time',)\n",
      "  warnings.warn(f\"{cmip6_dataset_id(ds)} failed to combine with :{e}\")\n",
      "/srv/conda/envs/notebook/lib/python3.10/site-packages/xmip/postprocessing.py:157: UserWarning: ScenarioMIP.EC-Earth-Consortium.EC-Earth3.ssp585.r116i1p1f1.day.gr.none.psl failed to combine with :cannot align objects with join='exact' where index/labels/sizes are not equal along these coordinates (dimensions): 'time' ('time',)\n",
      "  warnings.warn(f\"{cmip6_dataset_id(ds)} failed to combine with :{e}\")\n",
      "/srv/conda/envs/notebook/lib/python3.10/site-packages/xmip/postprocessing.py:157: UserWarning: ScenarioMIP.EC-Earth-Consortium.EC-Earth3.ssp585.r106i1p1f1.day.gr.none.sfcWind failed to combine with :cannot align objects with join='exact' where index/labels/sizes are not equal along these coordinates (dimensions): 'time' ('time',)\n",
      "  warnings.warn(f\"{cmip6_dataset_id(ds)} failed to combine with :{e}\")\n",
      "/srv/conda/envs/notebook/lib/python3.10/site-packages/xmip/postprocessing.py:157: UserWarning: ScenarioMIP.EC-Earth-Consortium.EC-Earth3.ssp585.r119i1p1f1.day.gr.none.sfcWind failed to combine with :cannot align objects with join='exact' where index/labels/sizes are not equal along these coordinates (dimensions): 'time' ('time',)\n",
      "  warnings.warn(f\"{cmip6_dataset_id(ds)} failed to combine with :{e}\")\n"
     ]
    }
   ],
   "source": [
    "ddict_merged = merge_variables(ddict) #skips model realizations for which simulation time differs (see warnings), need to fix this\n",
    "#list(ddict_merged.keys())"
   ]
  },
  {
   "cell_type": "code",
   "execution_count": 5,
   "id": "56eefb1e-9ab3-49e7-b14a-a51be3693d05",
   "metadata": {},
   "outputs": [],
   "source": [
    "reqVars = ['sfcWind','psl'] #need both these variables\n",
    "ddict_filtered = {k: v for k, v in ddict_merged.items() if set(reqVars).issubset(list(ddict_merged[k].variables))} #drop datasets which don't have both"
   ]
  },
  {
   "cell_type": "code",
   "execution_count": 6,
   "id": "cda5ef23-aedd-40c2-a9fa-e5e841894898",
   "metadata": {},
   "outputs": [],
   "source": [
    "def concat_realizations_most_common_ipf(ds_list):\n",
    "    '''custom function that concatenates only the realizations of the most common 'ipf' combination,\n",
    "    takes the first sorted 'ipf' if multiple 'ipf' are equally common'''\n",
    "    \n",
    "    member_ids = [ds.member_id.data[0] for ds in ds_list]\n",
    "    \n",
    "    member_ids.sort() #often i1 is the baseline?\n",
    "\n",
    "    ipf_ids = [s[s.find('i'):] for s in member_ids] #separate 'ipf' from 'r'\n",
    "    from collections import Counter\n",
    "\n",
    "    most_common_ipf = Counter(ipf_ids).most_common()[0][0]\n",
    "\n",
    "    # find unique members and decide which values of 'ipf' give the most members/variants?\n",
    "    # pick only the matching datasets from the list\n",
    "    ds_pick = [ds for ds in ds_list if (most_common_ipf in ds.member_id.data[0])]\n",
    "\n",
    "    return xr.concat(ds_pick, dim='member_id')\n",
    "\n",
    "from xmip.postprocessing import combine_datasets\n",
    "\n",
    "ddict_concat = combine_datasets(\n",
    "    ddict_filtered,\n",
    "    concat_realizations_most_common_ipf,\n",
    "    match_attrs=['source_id', 'grid_label', 'experiment_id', 'table_id']\n",
    ")\n",
    "#NB: This leaves multiple datasets for the same model with different grid labels. \n",
    "# That is not straightforward to filter out if querying multiple experiments. \n",
    "# Since this occurs only for a few models it is probably OK to just save these and remove them later.\n"
   ]
  },
  {
   "cell_type": "code",
   "execution_count": 7,
   "id": "cba17baf-805b-4e10-a073-7c5217cca98c",
   "metadata": {},
   "outputs": [],
   "source": [
    "mlrcoefs = xr.open_dataset('/home/jovyan/CMIP6cf/gssr_coefs_1degRes_forcing.nc') #contains coordinates of and MLR coefficients around TGs\n",
    "\n",
    "era5_grid = xr.Dataset( #the ERA5 grid used to derive the MLR coefficients\n",
    "        {\n",
    "            \"longitude\": ([\"longitude\"], np.arange(-40,30,1)+1/2, {\"units\": \"degrees_east\"}),\n",
    "            \"latitude\": ([\"latitude\"], np.arange(70,10,-1)-1/2, {\"units\": \"degrees_north\"}),\n",
    "        }\n",
    "    )\n",
    "\n",
    "#get coordinates of n x n degree grids around each tide gauge\n",
    "num_degr = 2\n",
    "lat_ranges = np.zeros((len(mlrcoefs.tg),2))\n",
    "lon_ranges = np.zeros((len(mlrcoefs.tg),2))\n",
    "\n",
    "for t,tg in enumerate(mlrcoefs.tg.values):\n",
    "    lat_ranges[t,:] = era5_grid.latitude[((era5_grid.latitude>=(mlrcoefs.sel(tg=tg).lat-num_degr/2)) & (era5_grid.latitude<=(mlrcoefs.sel(tg=tg).lat+num_degr/2)))][0:2]\n",
    "    lon_ranges[t,:] = era5_grid.longitude[((era5_grid.longitude>=(mlrcoefs.sel(tg=tg).lon-num_degr/2)) & (era5_grid.longitude<=(mlrcoefs.sel(tg=tg).lon+num_degr/2)))][0:2]\n",
    "\n",
    "#create da's to index the CMIP6 files with:\n",
    "lons_da = xr.DataArray(lon_ranges,dims=['tg','lon_around_tg'],coords={'tg':mlrcoefs.tg,'lon_around_tg':[0,1]})\n",
    "lats_da = xr.DataArray(lat_ranges,dims=['tg','lat_around_tg'],coords={'tg':mlrcoefs.tg,'lat_around_tg':[0,1]})"
   ]
  },
  {
   "cell_type": "code",
   "execution_count": 12,
   "id": "89be42e1-5a0a-41af-912c-4e9e3b8ab78c",
   "metadata": {},
   "outputs": [],
   "source": [
    "ddict_subsetted = ddict_concat #copy dictionary with concatenated realizations\n",
    "for key in ddict_concat:\n",
    "    ds = ddict_concat[key]\n",
    "\n",
    "    #change longitude coordinates to -180 -> 180 (avoids getting NaNs at the 0-meridian)\n",
    "    lon_coord = list(k for k in ds.dims if 'lon' in k)[0] #find lon/lat coordinate names\n",
    "    ds.coords[lon_coord] = ((ds.coords[lon_coord] + 180) % 360) - 180 #wrap around 0\n",
    "    ds = ds.reindex({ lon_coord : np.sort(ds[lon_coord])})\n",
    "    \n",
    "    regridded_ds = regrid_to_era5(ds,era5_grid) #regrid to the ERA5 grid bilinearly\n",
    "    ds_around_tgs = regridded_ds.sel(latitude=lats_da,longitude=lons_da) #subset at n x n degree grids around TGs\n",
    "    ddict_subsetted[key] = ds_around_tgs\n",
    "    #ds_around_tgs.to_netcdf('test.nc',mode='w') #storing the subsetted output"
   ]
  },
  {
   "cell_type": "code",
   "execution_count": 10,
   "id": "29cc6e90-c7b2-43f7-a969-69babee557da",
   "metadata": {},
   "outputs": [
    {
     "data": {
      "text/plain": [
       "dict_keys(['HadGEM3-GC31-MM.gn.ssp585.day', 'GFDL-CM4.gr2.ssp585.day', 'EC-Earth3.gr.ssp585.day', 'GFDL-CM4.gr1.ssp585.day', 'CMCC-ESM2.gn.ssp585.day', 'CMCC-CM2-SR5.gn.ssp585.day', 'GFDL-ESM4.gr1.ssp585.day', 'MPI-ESM1-2-HR.gn.ssp585.day', 'BCC-CSM2-MR.gn.ssp585.day', 'MRI-ESM2-0.gn.ssp585.day', 'MIROC6.gn.ssp585.day', 'NorESM2-MM.gn.ssp585.day', 'TaiESM1.gn.ssp585.day'])"
      ]
     },
     "execution_count": 10,
     "metadata": {},
     "output_type": "execute_result"
    }
   ],
   "source": [
    "ddict_subsetted.keys()"
   ]
  },
  {
   "cell_type": "code",
   "execution_count": 11,
   "id": "37173454-a9cd-437f-8312-2f14fee51e75",
   "metadata": {},
   "outputs": [
    {
     "data": {
      "application/vnd.jupyter.widget-view+json": {
       "model_id": "21515342cf0e494ea04aec6568ff90ec",
       "version_major": 2,
       "version_minor": 0
      },
      "text/plain": [
       "0it [00:00, ?it/s]"
      ]
     },
     "metadata": {},
     "output_type": "display_data"
    },
    {
     "data": {
      "text/plain": [
       "<tqdm.notebook.tqdm_notebook at 0x7f03b28c4160>"
      ]
     },
     "execution_count": 11,
     "metadata": {},
     "output_type": "execute_result"
    }
   ],
   "source": [
    "ddict_subsetted['HadGEM3-GC31-MM.gn.ssp585.day'].to_netcdf('test.nc',mode='w')"
   ]
  },
  {
   "cell_type": "code",
   "execution_count": null,
   "id": "57245cde-b0e0-4947-b2ca-b2e8acac915a",
   "metadata": {},
   "outputs": [],
   "source": []
  }
 ],
 "metadata": {
  "kernelspec": {
   "display_name": "Python 3 (ipykernel)",
   "language": "python",
   "name": "python3"
  },
  "language_info": {
   "codemirror_mode": {
    "name": "ipython",
    "version": 3
   },
   "file_extension": ".py",
   "mimetype": "text/x-python",
   "name": "python",
   "nbconvert_exporter": "python",
   "pygments_lexer": "ipython3",
   "version": "3.10.8"
  }
 },
 "nbformat": 4,
 "nbformat_minor": 5
}
