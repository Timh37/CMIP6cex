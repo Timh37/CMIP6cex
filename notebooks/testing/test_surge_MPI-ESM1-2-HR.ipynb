{
 "cells": [
  {
   "cell_type": "code",
   "execution_count": 1,
   "id": "204334ce-ab38-445f-aad0-ae91d07b400a",
   "metadata": {},
   "outputs": [],
   "source": [
    "import numpy as np\n",
    "import xarray as xr\n",
    "import os"
   ]
  },
  {
   "cell_type": "markdown",
   "id": "fa6ccba6-255a-464b-9c64-3ff2803720ee",
   "metadata": {},
   "source": [
    "Open the subsetted CMIP6 `psl` & `sfcWind` data (**To-do: test if concatenating results in issues for many realizations (e.g., EC-Earth3)**):"
   ]
  },
  {
   "cell_type": "code",
   "execution_count": 9,
   "id": "19544d38-afd3-4cb3-8dad-cde0a1c2e618",
   "metadata": {},
   "outputs": [],
   "source": [
    "in_dir = '/home/jovyan/CMIP6cf/output/surge_timeseries/MPI-ESM1-2-HR'\n",
    "\n",
    "surge = xr.open_dataset(os.path.join(in_dir,'MPI-ESM1-2-HR_gn_day_ssp585.nc'))\n",
    "\n",
    "        "
   ]
  },
  {
   "cell_type": "code",
   "execution_count": 10,
   "id": "58aa5a98-4180-4f71-a47c-87b7e7abd1e7",
   "metadata": {},
   "outputs": [
    {
     "data": {
      "text/plain": [
       "array([ 0.09080429,  0.04329561,  0.01419204, ..., -0.07307136,\n",
       "       -0.06133081, -0.04743148])"
      ]
     },
     "execution_count": 10,
     "metadata": {},
     "output_type": "execute_result"
    }
   ],
   "source": [
    "surge.sel(member_id='r1i1p1f1').isel(tg=20).surge.values"
   ]
  },
  {
   "cell_type": "code",
   "execution_count": null,
   "id": "ffc0d48d-019d-4cac-a659-781b569ba506",
   "metadata": {},
   "outputs": [],
   "source": []
  }
 ],
 "metadata": {
  "kernelspec": {
   "display_name": "Python 3 (ipykernel)",
   "language": "python",
   "name": "python3"
  },
  "language_info": {
   "codemirror_mode": {
    "name": "ipython",
    "version": 3
   },
   "file_extension": ".py",
   "mimetype": "text/x-python",
   "name": "python",
   "nbconvert_exporter": "python",
   "pygments_lexer": "ipython3",
   "version": "3.10.9"
  }
 },
 "nbformat": 4,
 "nbformat_minor": 5
}
