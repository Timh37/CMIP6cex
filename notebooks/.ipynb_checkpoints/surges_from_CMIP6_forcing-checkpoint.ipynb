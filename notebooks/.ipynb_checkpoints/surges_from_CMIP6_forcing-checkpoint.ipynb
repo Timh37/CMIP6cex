{
 "cells": [
  {
   "cell_type": "code",
   "execution_count": null,
   "id": "aa94dcff-4071-4569-a665-b84a67245375",
   "metadata": {},
   "outputs": [],
   "source": [
    "forcing_around_tgs['sfcWind_sq'] = forcing_around_tgs['sfcWind']**2\n",
    "forcing_around_tgs['sfcWind_cb'] = forcing_around_tgs['sfcWind']**3\n",
    "\n",
    "normalized_forcing = (forcing_around_tgs-forcing_around_tgs.mean(dim='time'))/forcing_around_tgs.std(dim='time',ddof=0)"
   ]
  },
  {
   "cell_type": "code",
   "execution_count": null,
   "id": "64d45704-1915-4ffb-992e-9c1a6c882748",
   "metadata": {},
   "outputs": [],
   "source": [
    "\n",
    "X_recon = normalized_forcing[[\"psl\", \"sfcWind\", \"sfcWind_sq\",\"sfcWind_cb\"]].to_array(dim=\"forcing_var\").transpose(\"time\",\"forcing_var\",\"tg\",\"lon_around_tg\",...).isel(tg=-1).stack(coord=['forcing_var','lat_around_tg','lon_around_tg'])\n",
    "pca=PCA(4)\n",
    "pca.fit(X_recon)\n",
    "X_pca_recon = pca.transform(X_recon)"
   ]
  }
 ],
 "metadata": {
  "kernelspec": {
   "display_name": "Python 3 (ipykernel)",
   "language": "python",
   "name": "python3"
  },
  "language_info": {
   "codemirror_mode": {
    "name": "ipython",
    "version": 3
   },
   "file_extension": ".py",
   "mimetype": "text/x-python",
   "name": "python",
   "nbconvert_exporter": "python",
   "pygments_lexer": "ipython3",
   "version": "3.10.8"
  }
 },
 "nbformat": 4,
 "nbformat_minor": 5
}
