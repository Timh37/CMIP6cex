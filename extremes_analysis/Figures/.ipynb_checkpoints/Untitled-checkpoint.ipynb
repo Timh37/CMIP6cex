{
 "cells": [
  {
   "cell_type": "code",
   "execution_count": null,
   "id": "0e51df72-f44e-4564-94ce-e501a19e3a2e",
   "metadata": {},
   "outputs": [],
   "source": [
    "import numpy as np\n",
    "import xarray as xr\n",
    "import os\n",
    "import fnmatch\n",
    "from tqdm.autonotebook import tqdm\n",
    "import dask\n",
    "import sys\n",
    "import matplotlib.pyplot as plt\n",
    "import cartopy\n",
    "import cartopy.crs as ccrs\n",
    "from mpl_toolkits.axes_grid1.inset_locator import inset_axes\n",
    "%config InlineBackend.figure_format = 'retina'\n",
    "import fs"
   ]
  },
  {
   "cell_type": "code",
   "execution_count": null,
   "id": "37173d3e-9fb7-4a38-b87e-bb43ef0f883e",
   "metadata": {},
   "outputs": [],
   "source": []
  }
 ],
 "metadata": {
  "kernelspec": {
   "display_name": "Python 3 (ipykernel)",
   "language": "python",
   "name": "python3"
  },
  "language_info": {
   "codemirror_mode": {
    "name": "ipython",
    "version": 3
   },
   "file_extension": ".py",
   "mimetype": "text/x-python",
   "name": "python",
   "nbconvert_exporter": "python",
   "pygments_lexer": "ipython3",
   "version": "3.10.12"
  }
 },
 "nbformat": 4,
 "nbformat_minor": 5
}
