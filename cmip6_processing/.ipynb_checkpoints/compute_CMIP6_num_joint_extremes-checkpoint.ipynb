{
 "cells": [
  {
   "cell_type": "code",
   "execution_count": 1,
   "id": "2a8899c2-c522-42e0-aa61-ce53a758f68c",
   "metadata": {},
   "outputs": [
    {
     "name": "stderr",
     "output_type": "stream",
     "text": [
      "/tmp/ipykernel_571/233130979.py:5: TqdmExperimentalWarning: Using `tqdm.autonotebook.tqdm` in notebook mode. Use `tqdm.tqdm` instead to force console mode (e.g. in jupyter console)\n",
      "  from tqdm.autonotebook import tqdm\n"
     ]
    }
   ],
   "source": [
    "import numpy as np\n",
    "import xarray as xr\n",
    "import os\n",
    "import fnmatch\n",
    "from tqdm.autonotebook import tqdm\n",
    "import dask\n",
    "import sys\n",
    "import gcsfs\n",
    "fs = gcsfs.GCSFileSystem() # equivalent to fsspec.fs('gs')\n",
    "sys.path.insert(0, '/home/jovyan/CMIP6cf/cmip6cf/')"
   ]
  },
  {
   "cell_type": "code",
   "execution_count": 10,
   "id": "4fc7c327-21fd-4833-b30e-b7ec97bdaffd",
   "metadata": {
    "tags": []
   },
   "outputs": [
    {
     "data": {
      "text/plain": [
       "['leap-persistent/timh37/CMIP6/subsetted_data/pr_tgs/ACCESS-CM2',\n",
       " 'leap-persistent/timh37/CMIP6/subsetted_data/pr_tgs/CESM2',\n",
       " 'leap-persistent/timh37/CMIP6/subsetted_data/pr_tgs/CESM2-WACCM',\n",
       " 'leap-persistent/timh37/CMIP6/subsetted_data/pr_tgs/CMCC-CM2-SR5',\n",
       " 'leap-persistent/timh37/CMIP6/subsetted_data/pr_tgs/CMCC-ESM2',\n",
       " 'leap-persistent/timh37/CMIP6/subsetted_data/pr_tgs/CanESM5',\n",
       " 'leap-persistent/timh37/CMIP6/subsetted_data/pr_tgs/EC-Earth3',\n",
       " 'leap-persistent/timh37/CMIP6/subsetted_data/pr_tgs/EC-Earth3-Veg',\n",
       " 'leap-persistent/timh37/CMIP6/subsetted_data/pr_tgs/GFDL-CM4',\n",
       " 'leap-persistent/timh37/CMIP6/subsetted_data/pr_tgs/GFDL-ESM4',\n",
       " 'leap-persistent/timh37/CMIP6/subsetted_data/pr_tgs/HadGEM3-GC31-LL',\n",
       " 'leap-persistent/timh37/CMIP6/subsetted_data/pr_tgs/HadGEM3-GC31-MM',\n",
       " 'leap-persistent/timh37/CMIP6/subsetted_data/pr_tgs/IITM-ESM',\n",
       " 'leap-persistent/timh37/CMIP6/subsetted_data/pr_tgs/INM-CM4-8',\n",
       " 'leap-persistent/timh37/CMIP6/subsetted_data/pr_tgs/INM-CM5-0',\n",
       " 'leap-persistent/timh37/CMIP6/subsetted_data/pr_tgs/IPSL-CM6A-LR',\n",
       " 'leap-persistent/timh37/CMIP6/subsetted_data/pr_tgs/KACE-1-0-G',\n",
       " 'leap-persistent/timh37/CMIP6/subsetted_data/pr_tgs/MIROC6',\n",
       " 'leap-persistent/timh37/CMIP6/subsetted_data/pr_tgs/MPI-ESM1-2-HR',\n",
       " 'leap-persistent/timh37/CMIP6/subsetted_data/pr_tgs/MPI-ESM1-2-LR',\n",
       " 'leap-persistent/timh37/CMIP6/subsetted_data/pr_tgs/MRI-ESM2-0',\n",
       " 'leap-persistent/timh37/CMIP6/subsetted_data/pr_tgs/NorESM2-LM',\n",
       " 'leap-persistent/timh37/CMIP6/subsetted_data/pr_tgs/NorESM2-MM',\n",
       " 'leap-persistent/timh37/CMIP6/subsetted_data/pr_tgs/TaiESM1',\n",
       " 'leap-persistent/timh37/CMIP6/subsetted_data/pr_tgs/UKESM1-0-LL']"
      ]
     },
     "execution_count": 10,
     "metadata": {},
     "output_type": "execute_result"
    }
   ],
   "source": [
    "fs.ls('gs://leap-persistent/timh37/CMIP6/subsetted_data/pr_tgs')"
   ]
  },
  {
   "cell_type": "code",
   "execution_count": 2,
   "id": "853c8e9b-73b2-47c3-9881-09abe4ce60ab",
   "metadata": {},
   "outputs": [],
   "source": [
    "def po_t_of_refyear(da,threshold,refyear,dim):\n",
    "    return da.where(da>da.sel(window=refyear).quantile(threshold,dim=dim))\n",
    "            \n",
    "def rolling_max(da,window_len,dim):\n",
    "    return da.rolling({dim:window_len},center=True,min_periods=1).max()\n",
    "\n",
    "def sum_num_extremes_pmonth(extremes):\n",
    "    extremes_ = extremes.copy(deep=True) #boolean array (True or False joint extreme occurs on that day)\n",
    "    if len(extremes.time.shape)>1:\n",
    "        extremes_['time_in_window_idx'] = extremes_.time.dt.month.isel(window=0).values\n",
    "    else:\n",
    "        extremes_['time_in_window_idx'] = extremes_.time.dt.month.values\n",
    "    num_extremes_pmonth = extremes_.rename({'time_in_window_idx':'month'}).groupby('month').sum()\n",
    "    return num_extremes_pmonth        "
   ]
  },
  {
   "cell_type": "markdown",
   "id": "d7be0e9a-7d00-4d95-b211-57e51b0467c6",
   "metadata": {},
   "source": [
    "Configure the bivariate sampling:"
   ]
  },
  {
   "cell_type": "code",
   "execution_count": 3,
   "id": "f6e2303f-56de-45d6-9f19-0e31cf0af7db",
   "metadata": {},
   "outputs": [],
   "source": [
    "#configure bivariate sampling settings\n",
    "max_lag = 0 #days\n",
    "declus_window_len = 1 #days\n",
    "threshold = .98 #quantile\n",
    "\n",
    "output_yrs = np.arange(1960,2100,20)\n",
    "window_len=40 #may need to increase? indicate settings in output folder?\n",
    "\n",
    "ref_year = 2000 #period to to compute thresholds from"
   ]
  },
  {
   "cell_type": "code",
   "execution_count": 4,
   "id": "7e7b2052-47a6-49e3-9171-dc112fbf19d6",
   "metadata": {},
   "outputs": [],
   "source": [
    "#configure the CMIP6 input settings\n",
    "var1 = 'surge'\n",
    "var2 = 'pr'\n",
    "domain = 'tgs' #'europe' or 'tgs'\n",
    "\n",
    "var1_dir = 'leap-persistent/timh37/CMIP6/timeseries/'+var1+'_'+domain\n",
    "var2_dir = 'leap-persistent/timh37/CMIP6/timeseries/'+var2+'_'+domain\n",
    "\n",
    "if domain == 'tgs':\n",
    "    input_is_gridded = False\n",
    "elif domain == 'europe':\n",
    "    input_is_gridded = True"
   ]
  },
  {
   "cell_type": "code",
   "execution_count": 5,
   "id": "e57ca67d-4dd6-4eb7-bd54-d3f2d63df818",
   "metadata": {},
   "outputs": [
    {
     "name": "stdout",
     "output_type": "stream",
     "text": [
      "Processing file: CESM2_gn_day_ssp245.zarr\n"
     ]
    },
    {
     "data": {
      "application/vnd.jupyter.widget-view+json": {
       "model_id": "74274bbb8df44675a390558ec78ce454",
       "version_major": 2,
       "version_minor": 0
      },
      "text/plain": [
       "0it [00:00, ?it/s]"
      ]
     },
     "metadata": {},
     "output_type": "display_data"
    },
    {
     "name": "stdout",
     "output_type": "stream",
     "text": [
      "Processing file: CESM2_gn_day_ssp585.zarr\n"
     ]
    },
    {
     "data": {
      "application/vnd.jupyter.widget-view+json": {
       "model_id": "a80ad25030e64e7093b7daf717fac32b",
       "version_major": 2,
       "version_minor": 0
      },
      "text/plain": [
       "0it [00:00, ?it/s]"
      ]
     },
     "metadata": {},
     "output_type": "display_data"
    },
    {
     "name": "stdout",
     "output_type": "stream",
     "text": [
      "Processing file: CESM2-WACCM_gn_day_ssp245.zarr\n"
     ]
    },
    {
     "data": {
      "application/vnd.jupyter.widget-view+json": {
       "model_id": "cf7eca82f28849dd87f4d4f08ca614b2",
       "version_major": 2,
       "version_minor": 0
      },
      "text/plain": [
       "0it [00:00, ?it/s]"
      ]
     },
     "metadata": {},
     "output_type": "display_data"
    },
    {
     "name": "stdout",
     "output_type": "stream",
     "text": [
      "Processing file: CESM2-WACCM_gn_day_ssp585.zarr\n"
     ]
    },
    {
     "data": {
      "application/vnd.jupyter.widget-view+json": {
       "model_id": "a701ca3f304b4543be806b9c43d6dfd7",
       "version_major": 2,
       "version_minor": 0
      },
      "text/plain": [
       "0it [00:00, ?it/s]"
      ]
     },
     "metadata": {},
     "output_type": "display_data"
    },
    {
     "name": "stdout",
     "output_type": "stream",
     "text": [
      "Processing file: CMCC-CM2-SR5_gn_day_ssp245.zarr\n"
     ]
    },
    {
     "data": {
      "application/vnd.jupyter.widget-view+json": {
       "model_id": "ef66390c7998487dbd4ea09fe0244e6d",
       "version_major": 2,
       "version_minor": 0
      },
      "text/plain": [
       "0it [00:00, ?it/s]"
      ]
     },
     "metadata": {},
     "output_type": "display_data"
    },
    {
     "name": "stdout",
     "output_type": "stream",
     "text": [
      "Processing file: CMCC-CM2-SR5_gn_day_ssp585.zarr\n"
     ]
    },
    {
     "data": {
      "application/vnd.jupyter.widget-view+json": {
       "model_id": "2d298246628e485fbd087d263bfe745a",
       "version_major": 2,
       "version_minor": 0
      },
      "text/plain": [
       "0it [00:00, ?it/s]"
      ]
     },
     "metadata": {},
     "output_type": "display_data"
    },
    {
     "name": "stdout",
     "output_type": "stream",
     "text": [
      "Processing file: CMCC-ESM2_gn_day_ssp245.zarr\n"
     ]
    },
    {
     "data": {
      "application/vnd.jupyter.widget-view+json": {
       "model_id": "a6a99f2518c34348989c8ab5cada310b",
       "version_major": 2,
       "version_minor": 0
      },
      "text/plain": [
       "0it [00:00, ?it/s]"
      ]
     },
     "metadata": {},
     "output_type": "display_data"
    },
    {
     "name": "stdout",
     "output_type": "stream",
     "text": [
      "Processing file: CMCC-ESM2_gn_day_ssp585.zarr\n"
     ]
    },
    {
     "data": {
      "application/vnd.jupyter.widget-view+json": {
       "model_id": "1a1ce594cef14a11af3dd2a41e2fc91b",
       "version_major": 2,
       "version_minor": 0
      },
      "text/plain": [
       "0it [00:00, ?it/s]"
      ]
     },
     "metadata": {},
     "output_type": "display_data"
    },
    {
     "name": "stdout",
     "output_type": "stream",
     "text": [
      "Processing file: EC-Earth3_gr_day_ssp245.zarr\n"
     ]
    },
    {
     "data": {
      "application/vnd.jupyter.widget-view+json": {
       "model_id": "6cb5daeea020475db30f76ad78b37c4c",
       "version_major": 2,
       "version_minor": 0
      },
      "text/plain": [
       "0it [00:00, ?it/s]"
      ]
     },
     "metadata": {},
     "output_type": "display_data"
    },
    {
     "name": "stdout",
     "output_type": "stream",
     "text": [
      "Processing file: EC-Earth3_gr_day_ssp585.zarr\n"
     ]
    },
    {
     "data": {
      "application/vnd.jupyter.widget-view+json": {
       "model_id": "8965b791b7cb4109b6a428b498501588",
       "version_major": 2,
       "version_minor": 0
      },
      "text/plain": [
       "0it [00:00, ?it/s]"
      ]
     },
     "metadata": {},
     "output_type": "display_data"
    },
    {
     "name": "stdout",
     "output_type": "stream",
     "text": [
      "Processing file: GFDL-CM4_gr1_day_ssp245.zarr\n"
     ]
    },
    {
     "data": {
      "application/vnd.jupyter.widget-view+json": {
       "model_id": "02b3ababe1e344a8ad25ef9fc7b7135d",
       "version_major": 2,
       "version_minor": 0
      },
      "text/plain": [
       "0it [00:00, ?it/s]"
      ]
     },
     "metadata": {},
     "output_type": "display_data"
    },
    {
     "name": "stdout",
     "output_type": "stream",
     "text": [
      "Processing file: GFDL-CM4_gr1_day_ssp585.zarr\n"
     ]
    },
    {
     "data": {
      "application/vnd.jupyter.widget-view+json": {
       "model_id": "890af40d392d471ea6f4271324af9341",
       "version_major": 2,
       "version_minor": 0
      },
      "text/plain": [
       "0it [00:00, ?it/s]"
      ]
     },
     "metadata": {},
     "output_type": "display_data"
    },
    {
     "name": "stdout",
     "output_type": "stream",
     "text": [
      "Processing file: GFDL-ESM4_gr1_day_ssp245.zarr\n"
     ]
    },
    {
     "data": {
      "application/vnd.jupyter.widget-view+json": {
       "model_id": "1ec6b6238bb84cb998284858174eef15",
       "version_major": 2,
       "version_minor": 0
      },
      "text/plain": [
       "0it [00:00, ?it/s]"
      ]
     },
     "metadata": {},
     "output_type": "display_data"
    },
    {
     "name": "stdout",
     "output_type": "stream",
     "text": [
      "Processing file: GFDL-ESM4_gr1_day_ssp585.zarr\n"
     ]
    },
    {
     "data": {
      "application/vnd.jupyter.widget-view+json": {
       "model_id": "3acb6f8ca4594c8fa351faf7f4ea6df0",
       "version_major": 2,
       "version_minor": 0
      },
      "text/plain": [
       "0it [00:00, ?it/s]"
      ]
     },
     "metadata": {},
     "output_type": "display_data"
    },
    {
     "name": "stdout",
     "output_type": "stream",
     "text": [
      "Processing file: HadGEM3-GC31-MM_gn_day_ssp585.zarr\n"
     ]
    },
    {
     "data": {
      "application/vnd.jupyter.widget-view+json": {
       "model_id": "3003f84f30a546aca4b73ccab6ef8bc4",
       "version_major": 2,
       "version_minor": 0
      },
      "text/plain": [
       "0it [00:00, ?it/s]"
      ]
     },
     "metadata": {},
     "output_type": "display_data"
    },
    {
     "name": "stdout",
     "output_type": "stream",
     "text": [
      "Processing file: MIROC6_gn_day_ssp245.zarr\n"
     ]
    },
    {
     "data": {
      "application/vnd.jupyter.widget-view+json": {
       "model_id": "d461b92d49094114aa8eeed8a1953446",
       "version_major": 2,
       "version_minor": 0
      },
      "text/plain": [
       "0it [00:00, ?it/s]"
      ]
     },
     "metadata": {},
     "output_type": "display_data"
    },
    {
     "name": "stdout",
     "output_type": "stream",
     "text": [
      "Processing file: MIROC6_gn_day_ssp585.zarr\n"
     ]
    },
    {
     "data": {
      "application/vnd.jupyter.widget-view+json": {
       "model_id": "64740686b4ef4b59aa0d6e2024612535",
       "version_major": 2,
       "version_minor": 0
      },
      "text/plain": [
       "0it [00:00, ?it/s]"
      ]
     },
     "metadata": {},
     "output_type": "display_data"
    },
    {
     "name": "stdout",
     "output_type": "stream",
     "text": [
      "Processing file: MPI-ESM1-2-HR_gn_day_ssp245.zarr\n"
     ]
    },
    {
     "data": {
      "application/vnd.jupyter.widget-view+json": {
       "model_id": "7504360cf2044bb2a5884c7aa21adda7",
       "version_major": 2,
       "version_minor": 0
      },
      "text/plain": [
       "0it [00:00, ?it/s]"
      ]
     },
     "metadata": {},
     "output_type": "display_data"
    },
    {
     "name": "stdout",
     "output_type": "stream",
     "text": [
      "Processing file: MPI-ESM1-2-HR_gn_day_ssp585.zarr\n"
     ]
    },
    {
     "data": {
      "application/vnd.jupyter.widget-view+json": {
       "model_id": "f445373329234786b6b1de37e92c60e6",
       "version_major": 2,
       "version_minor": 0
      },
      "text/plain": [
       "0it [00:00, ?it/s]"
      ]
     },
     "metadata": {},
     "output_type": "display_data"
    },
    {
     "name": "stdout",
     "output_type": "stream",
     "text": [
      "Processing file: MRI-ESM2-0_gn_day_ssp245.zarr\n"
     ]
    },
    {
     "data": {
      "application/vnd.jupyter.widget-view+json": {
       "model_id": "6212e233b6b24be786bab7a254b15587",
       "version_major": 2,
       "version_minor": 0
      },
      "text/plain": [
       "0it [00:00, ?it/s]"
      ]
     },
     "metadata": {},
     "output_type": "display_data"
    },
    {
     "name": "stdout",
     "output_type": "stream",
     "text": [
      "Processing file: MRI-ESM2-0_gn_day_ssp585.zarr\n"
     ]
    },
    {
     "data": {
      "application/vnd.jupyter.widget-view+json": {
       "model_id": "6830056195324ef19e5b19c863e3a405",
       "version_major": 2,
       "version_minor": 0
      },
      "text/plain": [
       "0it [00:00, ?it/s]"
      ]
     },
     "metadata": {},
     "output_type": "display_data"
    },
    {
     "name": "stdout",
     "output_type": "stream",
     "text": [
      "Processing file: NorESM2-MM_gn_day_ssp245.zarr\n"
     ]
    },
    {
     "data": {
      "application/vnd.jupyter.widget-view+json": {
       "model_id": "c42f543bd8aa4aec846aba7a7f3ab118",
       "version_major": 2,
       "version_minor": 0
      },
      "text/plain": [
       "0it [00:00, ?it/s]"
      ]
     },
     "metadata": {},
     "output_type": "display_data"
    },
    {
     "name": "stdout",
     "output_type": "stream",
     "text": [
      "Processing file: NorESM2-MM_gn_day_ssp585.zarr\n"
     ]
    },
    {
     "data": {
      "application/vnd.jupyter.widget-view+json": {
       "model_id": "9b105001620f4ab6ada3d59102d35bdc",
       "version_major": 2,
       "version_minor": 0
      },
      "text/plain": [
       "0it [00:00, ?it/s]"
      ]
     },
     "metadata": {},
     "output_type": "display_data"
    },
    {
     "name": "stdout",
     "output_type": "stream",
     "text": [
      "Processing file: TaiESM1_gn_day_ssp245.zarr\n"
     ]
    },
    {
     "data": {
      "application/vnd.jupyter.widget-view+json": {
       "model_id": "edb78ccd6e254543a6a0c3476ddf58af",
       "version_major": 2,
       "version_minor": 0
      },
      "text/plain": [
       "0it [00:00, ?it/s]"
      ]
     },
     "metadata": {},
     "output_type": "display_data"
    },
    {
     "name": "stdout",
     "output_type": "stream",
     "text": [
      "Processing file: TaiESM1_gn_day_ssp585.zarr\n"
     ]
    },
    {
     "data": {
      "application/vnd.jupyter.widget-view+json": {
       "model_id": "4b9938c0a9cf4baab16be2c1d96e2e0a",
       "version_major": 2,
       "version_minor": 0
      },
      "text/plain": [
       "0it [00:00, ?it/s]"
      ]
     },
     "metadata": {},
     "output_type": "display_data"
    }
   ],
   "source": [
    "models_var1 = [k.split('/')[-1] for k in fs.ls(var1_dir)]\n",
    "models_var2 = [k.split('/')[-1] for k in fs.ls(var2_dir)]\n",
    "source_ids = sorted(list(set(models_var1) & set(models_var2))) #intersection of models\n",
    "\n",
    "for source_id in [k for k in source_ids if ~k.startswith('.')]: #loop over models\n",
    "  \n",
    "    var1_model_path = os.path.join(var1_dir,source_id)\n",
    "    var2_model_path = os.path.join(var2_dir,source_id)\n",
    "    \n",
    "    #sfcWind_exps = [s.split('_')[-1][0:-3] for s in os.listdir(sfcWind_path) if s.startswith('.')==False]\n",
    "    #pr_exps = [s.split('_')[-1][0:-3] for s in os.listdir(pr_path) if s.startswith('.')==False]\n",
    "    \n",
    "    #get experiment_id's\n",
    "    var1_exps = [s.split('/')[-1].split('_')[-1][0:-5] for s in fs.ls(var1_model_path) if s.startswith('.')==False] \n",
    "    var2_exps = [s.split('/')[-1].split('_')[-1][0:-5] for s in fs.ls(var2_model_path) if s.startswith('.')==False]\n",
    "    experiment_ids = list(set(var1_exps) & set(var2_exps))\n",
    "\n",
    "    for experiment_id in experiment_ids: #loop over experiments\n",
    "        #load data:\n",
    "        fn = fnmatch.filter(fs.ls(var1_model_path),'*'+experiment_id+'*')[0]\n",
    "        fn = fn.split('/')[-1]\n",
    "        print('Processing file: '+fn)\n",
    "        if input_is_gridded==False:\n",
    "            var1_var2_data = xr.open_mfdataset((os.path.join('gs://',var1_model_path,fn),os.path.join('gs://',var2_model_path,fn)),engine='zarr',chunks={'member_id':1,'time':100000})\n",
    "        else:\n",
    "            #sfcWind_pr = xr.open_mfdataset((os.path.join(sfcWind_path,fn),os.path.join(pr_path,fn)),chunks={'member_id':1,'time':100000,'longitude':3})#.sel(longitude=np.arange(-25,11))\n",
    "            var1_var2_data = xr.open_mfdataset((os.path.join('gs://',var1_model_path,fn),os.path.join('gs://',var2_model_path,fn)),engine='zarr',chunks={'member_id':1,'time':100000,'longitude':5})\n",
    " \n",
    "        #generate output paths\n",
    "        #model_path = os.path.join('/home/jovyan/CMIP6cf/output/dependence/sfcWind_pr_europe/40yr_p98_lag0d_declus1d_ref2000',sfcWind_pr.source_id)\n",
    "        output_path = '/home/jovyan/CMIP6cf/output/num_extremes/'+var1+'_'+var2+'_'+var1_dir.split('_')[-1]+'/'+str(window_len)+'yr_'+str(threshold).replace('0.','p')+'_lag'+str(max_lag)+'d_declus'+str(declus_window_len)+'d_ref'+str(ref_year)\n",
    "        output_model_path = os.path.join(output_path,var1_var2_data.source_id)\n",
    "        output_fn = os.path.join(output_model_path,fn.replace('.zarr','.nc'))\n",
    "\n",
    "        #construct time window indices\n",
    "        if len(np.unique(var1_var2_data.time.resample(time='1Y').count()))>1: #remove leap days so that each computation window has the same length\n",
    "            with dask.config.set(**{'array.slicing.split_large_chunks': True}):\n",
    "                var1_var2_data = var1_var2_data.sel(time=~((var1_var2_data.time.dt.month == 2) & (var1_var2_data.time.dt.day == 29))) #^probably (hopefully) only has a small effect on the results\n",
    "        \n",
    "        days_in_year = int(var1_var2_data.time.resample(time='1Y').count()[0])\n",
    "        \n",
    "        if window_len%2 !=0: #odd\n",
    "            window_start_idx = days_in_year*(output_yrs-1850-int(np.floor(window_len/2)))\n",
    "            first_window_idx = np.arange(0*days_in_year,window_len*days_in_year)\n",
    "        else: #even\n",
    "            window_start_idx = days_in_year*(output_yrs-1850-int(window_len/2)+1)\n",
    "            first_window_idx = np.arange(0*days_in_year,window_len*days_in_year)\n",
    "        \n",
    "        if np.max(first_window_idx[:,np.newaxis]+window_start_idx[np.newaxis,:])>=len(var1_var2_data.time): #if window exceeds simulation length\n",
    "            continue #skip\n",
    "            #raise Exception('Windows exceed simulation length.')\n",
    "            \n",
    "        window_idx = xr.DataArray( #indices of windows\n",
    "            data=first_window_idx[:,np.newaxis]+window_start_idx[np.newaxis,:],\n",
    "            dims=[\"time_in_window_idx\",\"window\"],\n",
    "            coords=dict(\n",
    "                time_in_window_idx=first_window_idx,\n",
    "                window=output_yrs\n",
    "            ),\n",
    "        )\n",
    "        \n",
    "        if not os.path.exists(output_path):\n",
    "            os.mkdir(output_path)\n",
    "        if not os.path.exists(output_model_path):\n",
    "            os.mkdir(output_model_path)\n",
    "            \n",
    "        for m,member in tqdm(enumerate(var1_var2_data.member_id)): #loop over members of each model to compute the dependence\n",
    "        \n",
    "            var1_var2_data_mem = var1_var2_data.sel(member_id=member)\n",
    "            with dask.config.set(**{'array.slicing.split_large_chunks': False}):\n",
    "                var1_var2_data_wdws = var1_var2_data_mem.isel(time=window_idx) #select data in user-defined time windows\n",
    "            \n",
    "            data_is_complete = np.isfinite(var1_var2_data_wdws[var1]).all(dim='time_in_window_idx') * np.isfinite(var1_var2_data_wdws[var2]).all(dim='time_in_window_idx') #check data-completeness in each window\n",
    "\n",
    "            #derive peaks\n",
    "            var1_peaks = po_t_of_refyear(var1_var2_data_wdws[var1],threshold,ref_year,dim='time_in_window_idx')\n",
    "            var2_peaks = po_t_of_refyear(var1_var2_data_wdws[var2],threshold,ref_year,dim='time_in_window_idx')\n",
    "            \n",
    "            var1_peaks_declustered = var1_peaks.where(var1_peaks==var1_peaks.rolling({'time_in_window_idx':declus_window_len},center=True,min_periods=1).max(skipna=True))\n",
    "            var2_peaks_declustered = var2_peaks.where(var2_peaks==var2_peaks.rolling({'time_in_window_idx':declus_window_len},center=True,min_periods=1).max(skipna=True))\n",
    "            \n",
    "            #determine joint extremes within 'max_lag' lag from eachother\n",
    "            joint_extremes = np.isfinite((rolling_max(var2_peaks_declustered,max_lag*2+1,dim='time_in_window_idx')*var1_peaks_declustered)) #previously: 'co_occurring'\n",
    "            \n",
    "            #generate output dataset for current member\n",
    "            num_extremes_mem = sum_num_extremes_pmonth(joint_extremes).to_dataset(name='num_joint_extremes')\n",
    "            num_extremes_mem['num_'+var1+'_extremes'] = sum_num_extremes_pmonth(np.isfinite(var1_peaks_declustered))\n",
    "            num_extremes_mem['num_'+var2+'_extremes'] = sum_num_extremes_pmonth(np.isfinite(var2_peaks_declustered))\n",
    "            \n",
    "            ####DECOMPOSITION OF CHANGES (probably not correct if declustering!!):\n",
    "            #1) sort (in magnitude) values in reference period to determine the equivalent threshold percentiles in other windows\n",
    "            if input_is_gridded:\n",
    "                sorted_var1_ref = xr.DataArray(data=np.sort(var1_var2_data_wdws.sel(window=ref_year)[var1],axis=0),dims=['time_in_window_idx','latitude','longitude'],\n",
    "                                                   coords=dict(time_in_window_idx=var1_var2_data_wdws.time_in_window_idx,latitude=var1_var2_data_wdws.latitude,longitude=var1_var2_data_wdws.longitude)).chunk({'longitude':5})\n",
    "                sorted_var2_ref = xr.DataArray(data=np.sort(var1_var2_data_wdws.sel(window=ref_year)[var2],axis=0),dims=['time_in_window_idx','latitude','longitude'],\n",
    "                                              coords=dict(time_in_window_idx=var1_var2_data_wdws.time_in_window_idx,latitude=var1_var2_data_wdws.latitude,longitude=var1_var2_data_wdws.longitude)).chunk({'longitude':5})\n",
    "            else:\n",
    "                sorted_var1_ref = xr.DataArray(data=np.sort(var1_var2_data_wdws.sel(window=ref_year)[var1],axis=0),dims=['time_in_window_idx','tg'],\n",
    "                                                   coords=dict(time_in_window_idx=var1_var2_data_wdws.time_in_window_idx,tg=var1_var2_data_wdws.tg))\n",
    "                sorted_var2_ref = xr.DataArray(data=np.sort(var1_var2_data_wdws.sel(window=ref_year)[var2],axis=0),dims=['time_in_window_idx','tg'],\n",
    "                                              coords=dict(time_in_window_idx=var1_var2_data_wdws.time_in_window_idx,tg=var1_var2_data_wdws.tg))\n",
    "            #initialize output arrays\n",
    "            num_extremes_mem['num_joint_extremes_'+var1+'_driven'] = num_extremes_mem['num_joint_extremes'].copy(deep=True)\n",
    "            num_extremes_mem['num_joint_extremes_'+var2+'_driven'] = num_extremes_mem['num_joint_extremes'].copy(deep=True)\n",
    "            num_extremes_mem['num_joint_extremes_'+var1+'_'+var2+'_driven'] = num_extremes_mem['num_joint_extremes'].copy(deep=True)\n",
    "            num_extremes_mem['num_'+var1+'_extremes_refWindow_futT'] = num_extremes_mem['num_'+var1+'_extremes'].copy(deep=True)\n",
    "            num_extremes_mem['num_'+var2+'_extremes_refWindow_futT'] = num_extremes_mem['num_'+var2+'_extremes'].copy(deep=True)\n",
    "            \n",
    "            for w,win in enumerate(var1_var2_data_wdws.window): #loop over each window to do the decomposition\n",
    "                #2) find the threshold values in the reference period corresponding to the percentile of events exceeding the reference threshold values in the future (var_{U_{var}}^{hist} in the paper)\n",
    "                var1_eqv_thresholds = sorted_var1_ref.isel(time_in_window_idx=-1*(np.isfinite(var1_peaks_declustered).sum(dim='time_in_window_idx').sel(window=win).load()))\n",
    "                var2_eqv_thresholds = sorted_var2_ref.isel(time_in_window_idx=-1*(np.isfinite(var2_peaks_declustered).sum(dim='time_in_window_idx').sel(window=win).load()))\n",
    "                \n",
    "                #3) determine the peaks above those threshold values in the reference window\n",
    "                var1_peaks_fut_threshold = var1_var2_data_wdws[var1].sel(window=ref_year).where(var1_var2_data_wdws[var1].sel(window=ref_year)>=var1_eqv_thresholds) #determine the peaks in the reference period above those values\n",
    "                var2_peaks_fut_threshold = var1_var2_data_wdws[var2].sel(window=ref_year).where(var1_var2_data_wdws[var2].sel(window=ref_year)>=var2_eqv_thresholds)\n",
    "\n",
    "                #4) determine the joint extremes for different components:\n",
    "                # a) var2 peaks above standard threshold in reference period, var1 above future threshold percentile in reference period\n",
    "                joint_extremes_var1_driven = np.isfinite((rolling_max(var2_peaks_declustered.sel(window=ref_year),max_lag*2+1,dim='time_in_window_idx')*var1_peaks_fut_threshold))\n",
    "\n",
    "                # b) var1 peaks above standard threshold in reference period, var2 above future threshold percentile in reference period\n",
    "                joint_extremes_var2_driven = np.isfinite((rolling_max(var2_peaks_fut_threshold,max_lag*2+1,dim='time_in_window_idx')*var1_peaks_declustered.sel(window=ref_year)))\n",
    "\n",
    "                # c) var1 and var 2 above future threshold percentile in reference period\n",
    "                joint_extremes_var1_var2_driven = np.isfinite((rolling_max(var2_peaks_fut_threshold,max_lag*2+1,dim='time_in_window_idx')*var1_peaks_fut_threshold))\n",
    "           \n",
    "                #count per month\n",
    "                num_extremes_mem['num_joint_extremes_'+var1+'_driven'].loc[dict(window=win)] = sum_num_extremes_pmonth(joint_extremes_var1_driven)\n",
    "                num_extremes_mem['num_joint_extremes_'+var2+'_driven'].loc[dict(window=win)] = sum_num_extremes_pmonth(joint_extremes_var2_driven)\n",
    "                num_extremes_mem['num_joint_extremes_'+var1+'_'+var2+'_driven'].loc[dict(window=win)] = sum_num_extremes_pmonth(joint_extremes_var1_var2_driven)\n",
    "                num_extremes_mem['num_'+var1+'_extremes_refWindow_futT'].loc[dict(window=win)] = sum_num_extremes_pmonth(np.isfinite(var1_peaks_fut_threshold))\n",
    "                num_extremes_mem['num_'+var2+'_extremes_refWindow_futT'].loc[dict(window=win)] = sum_num_extremes_pmonth(np.isfinite(var2_peaks_fut_threshold))\n",
    "            \n",
    "            #changes in magnitude of 95% in each season            \n",
    "            num_extremes_mem[var1+'_p95'] = xr.concat((var1_var2_data_wdws[var1].where(np.mod(var1_var2_data_wdws.time.dt.month,12)<3).quantile(.95,dim='time_in_window_idx'),\n",
    "                                                          var1_var2_data_wdws[var1].where((np.mod(var1_var2_data_wdws.time.dt.month,12)>2) & (np.mod(var1_var2_data_wdws.time.dt.month,12)<6)).quantile(.95,dim='time_in_window_idx'),\n",
    "                                                          var1_var2_data_wdws[var1].where((np.mod(var1_var2_data_wdws.time.dt.month,12)>5) & (np.mod(var1_var2_data_wdws.time.dt.month,12)<9)).quantile(.95,dim='time_in_window_idx'),\n",
    "                                                          var1_var2_data_wdws[var1].where((np.mod(var1_var2_data_wdws.time.dt.month,12)>8) & (np.mod(var1_var2_data_wdws.time.dt.month,12)<12)).quantile(.95,dim='time_in_window_idx')),dim='season')\n",
    "            num_extremes_mem[var2+'_p95'] = xr.concat((var1_var2_data_wdws[var2].where(np.mod(var1_var2_data_wdws.time.dt.month,12)<3).quantile(.95,dim='time_in_window_idx'),\n",
    "                                                          var1_var2_data_wdws[var2].where((np.mod(var1_var2_data_wdws.time.dt.month,12)>2) & (np.mod(var1_var2_data_wdws.time.dt.month,12)<6)).quantile(.95,dim='time_in_window_idx'),\n",
    "                                                          var1_var2_data_wdws[var2].where((np.mod(var1_var2_data_wdws.time.dt.month,12)>5) & (np.mod(var1_var2_data_wdws.time.dt.month,12)<9)).quantile(.95,dim='time_in_window_idx'),\n",
    "                                                          var1_var2_data_wdws[var2].where((np.mod(var1_var2_data_wdws.time.dt.month,12)>8) & (np.mod(var1_var2_data_wdws.time.dt.month,12)<12)).quantile(.95,dim='time_in_window_idx')),dim='season')\n",
    "            num_extremes_mem = num_extremes_mem.assign_coords({'season':['DJF','MAM','JJA','SON']})\n",
    "            \n",
    "            #store metadata\n",
    "            num_extremes_mem['complete_window'] = data_is_complete #store where windows miss data\n",
    "                        \n",
    "            num_extremes_mem = num_extremes_mem.expand_dims(dim={\"member_id\": 1}) #add coordinates & dimensions\n",
    "\n",
    "            num_extremes_mem.attrs = var1_var2_data.attrs #keep original attributes and add information on the extremes analysis\n",
    "            num_extremes_mem.attrs['window_length'] = str(window_len)\n",
    "            num_extremes_mem.attrs['declustering'] = 'Rolling window of '+str(declus_window_len)+' days'\n",
    "            num_extremes_mem.attrs['allowed_lag'] = str(max_lag)\n",
    "            num_extremes_mem.attrs['ref_window'] = str(ref_year)\n",
    "            \n",
    "            num_extremes_mem.to_netcdf(output_fn.replace('.nc','_'+num_extremes_mem.member_id.values[0]+'.nc'),mode='w')\n",
    "            num_extremes_mem.close()\n",
    "    "
   ]
  },
  {
   "cell_type": "markdown",
   "id": "6c8fe84b-de75-40bb-bb5d-82a845a3164c",
   "metadata": {},
   "source": [
    "```python \n",
    "#old way of computing numbers per month\n",
    "for month in np.arange(1,13): #count number of joint extremes per month\n",
    "    if month==1: #initialize\n",
    "        num_joint_extremes_pmonth = joint_extremes.where(joint_extremes.time.dt.month==month).sum(dim='time_in_window_idx')\n",
    "        num_var1_extremes_pmonth = np.isfinite(var1_peaks_declustered.where(var1_peaks_declustered.time.dt.month==month)).sum(dim='time_in_window_idx')\n",
    "        num_var2_extremes_pmonth = np.isfinite(var2_peaks_declustered.where(var2_peaks_declustered.time.dt.month==month)).sum(dim='time_in_window_idx')\n",
    "    else: #add to results for preceding months\n",
    "        num_joint_extremes_pmonth = xr.concat((num_joint_extremes_pmonth,joint_extremes.where(joint_extremes.time.dt.month==month).sum(dim='time_in_window_idx')),dim='month')\n",
    "        num_var1_extremes_pmonth = xr.concat((num_var1_extremes_pmonth,np.isfinite(var1_peaks_declustered.where(var1_peaks_declustered.time.dt.month==month)).sum(dim='time_in_window_idx')),dim='month')\n",
    "        num_var2_extremes_pmonth = xr.concat((num_var2_extremes_pmonth,np.isfinite(var2_peaks_declustered.where(var2_peaks_declustered.time.dt.month==month)).sum(dim='time_in_window_idx')),dim='month')\n",
    "\n",
    "num_joint_extremes_pmonth = num_joint_extremes_pmonth.assign_coords({'month':np.arange(1,13)})                             \n",
    "num_var1_extremes_pmonth = num_var1_extremes_pmonth.assign_coords({'month':np.arange(1,13)})\n",
    "num_var2_extremes_pmonth = num_var2_extremes_pmonth.assign_coords({'month':np.arange(1,13)})       \n",
    "```            "
   ]
  },
  {
   "cell_type": "markdown",
   "id": "2e280ae4-a2b1-4352-8c55-4c8e964d24f7",
   "metadata": {},
   "source": [
    "```\n",
    "sfcWind_dir = '/home/jovyan/CMIP6cf/output/timeseries/sfcWind_europe/'\n",
    "pr_dir = '/home/jovyan/CMIP6cf/output/timeseries/pr_europe/'\n",
    "\n",
    "source_ids = list(set(os.listdir(sfcWind_dir)) & set(os.listdir(pr_dir))) #intersection of models\n",
    "\n",
    "for source_id in ['EC-Earth3']:#[k for k in source_ids if ~k.startswith('.')]: #loop over models\n",
    "  \n",
    "    sfcWind_path = os.path.join(sfcWind_dir,source_id)\n",
    "    pr_path = os.path.join(pr_dir,source_id)\n",
    "    \n",
    "    sfcWind_exps = [s.split('_')[-1][0:-3] for s in os.listdir(sfcWind_path) if s.startswith('.')==False]\n",
    "    pr_exps = [s.split('_')[-1][0:-3] for s in os.listdir(pr_path) if s.startswith('.')==False]\n",
    "    \n",
    "    experiment_ids = list(set(sfcWind_exps) & set(pr_exps))\n",
    "\n",
    "    for experiment_id in experiment_ids: #loop over experiments\n",
    "        #load data\n",
    "        fn = fnmatch.filter(os.listdir(sfcWind_path),'*'+experiment_id+'*')[0]\n",
    "        print('Processing file: '+fn)\n",
    "        sfcWind_pr = xr.open_mfdataset((os.path.join(sfcWind_path,fn),os.path.join(pr_path,fn)),chunks={'member_id':1,'time':100000,'longitude':5})#.sel(longitude=np.arange(-25,11))\n",
    "        \n",
    "        #generate output paths & check if output already exists\n",
    "        model_path = os.path.join('/home/jovyan/CMIP6cf/output/dependence/sfcWind_pr_europe/40yr_p98_lag0d_declus1d_ref1980',sfcWind_pr.source_id)\n",
    "        output_fn = os.path.join(model_path,fn)\n",
    "\n",
    "        if not os.path.exists(model_path):\n",
    "            os.mkdir(model_path)\n",
    "\n",
    "        if not overwrite_output: #if not overwriting existing output\n",
    "            if os.path.exists(output_fn):\n",
    "                print('Output already exists for this instance.')\n",
    "                continue\n",
    "        \n",
    "        #construct time window indices\n",
    "        if len(np.unique(sfcWind_pr.time.resample(time='1Y').count()))>1: #remove leap days so that each computation window has the same length\n",
    "            with dask.config.set(**{'array.slicing.split_large_chunks': True}):\n",
    "                sfcWind_pr = sfcWind_pr.sel(time=~((sfcWind_pr.time.dt.month == 2) & (sfcWind_pr.time.dt.day == 29))) #^probably (hopefully) only has a small effect on the results\n",
    "        \n",
    "        #select DJF:\n",
    "        days_in_year = int(sfcWind_pr.time.resample(time='1Y').count()[0])\n",
    "        \n",
    "        if window_len%2 !=0: #odd\n",
    "            window_start_idx = days_in_year*(output_yrs-1850-int(np.floor(window_len/2)))\n",
    "            first_window_idx = np.arange(0*days_in_year,window_len*days_in_year)\n",
    "        else: #even\n",
    "            window_start_idx = days_in_year*(output_yrs-1850-int(window_len/2)+1)\n",
    "            first_window_idx = np.arange(0*days_in_year,window_len*days_in_year)\n",
    "        \n",
    "        if np.max(first_window_idx[:,np.newaxis]+window_start_idx[np.newaxis,:])>=len(sfcWind_pr.time):\n",
    "            raise Exception('Windows exceed simulation length.')\n",
    "            \n",
    "        window_idx = xr.DataArray( #indices of windows\n",
    "            data=first_window_idx[:,np.newaxis]+window_start_idx[np.newaxis,:],\n",
    "            dims=[\"time_in_window_idx\",\"window\"],\n",
    "            coords=dict(\n",
    "                time_in_window_idx=first_window_idx,\n",
    "                window=output_yrs\n",
    "            ),\n",
    "        )\n",
    "        \n",
    "        for m,member in tqdm(enumerate(sfcWind_pr.member_id)): #loop over members to compute the dependence\n",
    "            sfcWind_pr_mem = sfcWind_pr.sel(member_id=member).copy(deep=True).load()\n",
    "            \n",
    "            sfcWind_pr_wdws = sfcWind_pr_mem.isel(time=window_idx) #select windows\n",
    "   \n",
    "            data_is_complete = np.isfinite(sfcWind_pr_wdws.sfcWind).all(dim='time_in_window_idx') * np.isfinite(sfcWind_pr_wdws.pr).all(dim='time_in_window_idx')\n",
    "            \n",
    "            pr_hist_threshold = sfcWind_pr_wdws['pr'].sel(window=1980).quantile(threshold,dim='time_in_window_idx')\n",
    "            sfcWind_hist_threshold = sfcWind_pr_wdws['sfcWind'].sel(window=1980).quantile(threshold,dim='time_in_window_idx')\n",
    "\n",
    "            pr_peaks = sfcWind_pr_wdws['pr'].where(sfcWind_pr_wdws['pr']>pr_hist_threshold)\n",
    "            sfcWind_peaks = sfcWind_pr_wdws['sfcWind'].where(sfcWind_pr_wdws['sfcWind']>sfcWind_hist_threshold)\n",
    "            \n",
    "            pr_peaks_declustered = pr_peaks.where(pr_peaks==pr_peaks.rolling({'time_in_window_idx':declus_window_len},center=True,min_periods=1).max(skipna=True))\n",
    "            sfcWind_peaks_declustered = sfcWind_peaks.where(sfcWind_peaks==sfcWind_peaks.rolling({'time_in_window_idx':declus_window_len},center=True,min_periods=1).max(skipna=True))\n",
    "            \n",
    "            #decomposition (only works for declustering = 0 and lag =1)?\n",
    "            \n",
    "            #sort values in historical period\n",
    "         \n",
    "            sorted_pr_1980 = xr.DataArray(data=np.sort(sfcWind_pr_wdws.sel(window=1980).pr,axis=0),dims=['time_in_window_idx','latitude','longitude'],\n",
    "                                          coords=dict(time_in_window_idx=sfcWind_pr_wdws.time_in_window_idx,latitude=sfcWind_pr_wdws.latitude,longitude=sfcWind_pr_wdws.longitude)).chunk({'longitude':5})\n",
    "            sorted_sfcWind_1980 = xr.DataArray(data=np.sort(sfcWind_pr_wdws.sel(window=1980).sfcWind,axis=0),dims=['time_in_window_idx','latitude','longitude'],\n",
    "                                               coords=dict(time_in_window_idx=sfcWind_pr_wdws.time_in_window_idx,latitude=sfcWind_pr_wdws.latitude,longitude=sfcWind_pr_wdws.longitude)).chunk({'longitude':5})\n",
    "\n",
    "            #derive percentile values based on number of exceedences of historical 98% in the future & determine peaks, #potentially expand this to other windows than just 2080\n",
    "            pr_eqv_thresholds = sorted_pr_1980.isel(time_in_window_idx=-1*(np.isfinite(pr_peaks_declustered).sum(dim='time_in_window_idx').sel(window=2080).load()))\n",
    "            wind_eqv_thresholds = sorted_sfcWind_1980.isel(time_in_window_idx=-1*(np.isfinite(sfcWind_peaks_declustered).sum(dim='time_in_window_idx').sel(window=2080).load()))\n",
    "            \n",
    "            pr_peaks_fut_threshold = sfcWind_pr_wdws.pr.sel(window=1980).where(sfcWind_pr_wdws.pr.sel(window=1980)>=pr_eqv_thresholds)\n",
    "            sfcWind_peaks_fut_threshold = sfcWind_pr_wdws.sfcWind.sel(window=1980).where(sfcWind_pr_wdws.sfcWind.sel(window=1980)>=wind_eqv_thresholds)\n",
    "\n",
    "            #compute number of co_occurring extremes due to different effects\n",
    "\n",
    "            #co occurring pr fut threshold\n",
    "            num_co_occurring_pr_driven = np.isfinite((rolling_max(pr_peaks_fut_threshold,max_lag*2+1,dim='time_in_window_idx')*sfcWind_peaks_declustered.sel(window=1980))).sum(dim='time_in_window_idx')\n",
    "\n",
    "            #co occurring wind fut threshold \n",
    "            num_co_occurring_wind_driven = np.isfinite((rolling_max(pr_peaks_declustered.sel(window=1980),max_lag*2+1,dim='time_in_window_idx')*sfcWind_peaks_fut_threshold)).sum(dim='time_in_window_idx')\n",
    "\n",
    "            #co occurring both new threshold\n",
    "            num_co_occurring_both_driven = np.isfinite((rolling_max(pr_peaks_fut_threshold,max_lag*2+1,dim='time_in_window_idx')*sfcWind_peaks_fut_threshold)).sum(dim='time_in_window_idx')\n",
    "           \n",
    "            \n",
    "            #pr_peaks_declustered = declustered_peaks(sfcWind_pr_wdws['pr'],threshold,declus_window_len,dim='time_in_window_idx')\n",
    "            #sfcWind_peaks_declustered = declustered_peaks(sfcWind_pr_wdws['sfcWind'],threshold,declus_window_len,dim='time_in_window_idx')\n",
    "            \n",
    "            #count occurrences of peaks\n",
    "            co_occurring = np.isfinite((rolling_max(pr_peaks_declustered,max_lag*2+1,dim='time_in_window_idx')*sfcWind_peaks_declustered))\n",
    "            \n",
    "            for month in np.arange(1,13):\n",
    "                if month==1:\n",
    "                    num_co_occurring_pmonth = co_occurring.where(co_occurring.time.dt.month==month).sum(dim='time_in_window_idx')\n",
    "                    num_pr_peaks_pmonth = np.isfinite(pr_peaks_declustered.where(pr_peaks_declustered.time.dt.month==month)).sum(dim='time_in_window_idx')\n",
    "                    num_sfcWind_peaks_pmonth = np.isfinite(sfcWind_peaks_declustered.where(sfcWind_peaks_declustered.time.dt.month==month)).sum(dim='time_in_window_idx')\n",
    "                else:\n",
    "                    num_co_occurring_pmonth = xr.concat((num_co_occurring_pmonth,co_occurring.where(co_occurring.time.dt.month==month).sum(dim='time_in_window_idx')),dim='month')\n",
    "                    num_pr_peaks_pmonth = xr.concat((num_pr_peaks_pmonth,np.isfinite(pr_peaks_declustered.where(pr_peaks_declustered.time.dt.month==month)).sum(dim='time_in_window_idx')),dim='month')\n",
    "                    num_sfcWind_peaks_pmonth = xr.concat((num_sfcWind_peaks_pmonth,np.isfinite(sfcWind_peaks_declustered.where(sfcWind_peaks_declustered.time.dt.month==month)).sum(dim='time_in_window_idx')),dim='month')\n",
    "                    \n",
    "            num_co_occurring_pmonth = num_co_occurring_pmonth.assign_coords({'month':np.arange(1,13)})                             \n",
    "            num_pr_peaks_pmonth = num_pr_peaks_pmonth.assign_coords({'month':np.arange(1,13)})       \n",
    "            num_sfcWind_peaks_pmonth = num_sfcWind_peaks_pmonth.assign_coords({'month':np.arange(1,13)})       \n",
    "            \n",
    "            #dependence_mem = xr.concat([ktau_pr_cdon_sfcWind,ktau_sfcWind_cdon_pr,ktau_both_peaks],dim='extreme_variate').to_dataset(name='ktau')\n",
    "                \n",
    "            dependence_mem = num_co_occurring_pmonth.to_dataset(name='num_co_occurring')\n",
    "            dependence_mem['num_pr_peaks'] = num_pr_peaks_pmonth\n",
    "            dependence_mem['num_sfcWind_peaks'] = num_sfcWind_peaks_pmonth\n",
    "           \n",
    "            dependence_mem['num_co_occurring_pr_driven']   = num_co_occurring_pr_driven\n",
    "            dependence_mem['num_co_occurring_sfcWind_driven'] = num_co_occurring_wind_driven\n",
    "            dependence_mem['num_co_occurring_both_driven'] = num_co_occurring_both_driven\n",
    "            \n",
    "            dependence_mem['num_co_occurring_pr_driven'].attrs['window']='2061-2100'\n",
    "            dependence_mem['num_co_occurring_sfcWind_driven'].attrs['window']='2061-2100'\n",
    "            dependence_mem['num_co_occurring_both_driven'].attrs['window']='2061-2100'\n",
    "           \n",
    "            #store thresholds\n",
    "            dependence_mem['sfcWind_thresholds_annual'] = sfcWind_pr_wdws['sfcWind'].quantile(np.arange(.9,1,.01),dim='time_in_window_idx')\n",
    "            dependence_mem['pr_thresholds_annual'] = sfcWind_pr_wdws['pr'].quantile(np.arange(.9,1,.01),dim='time_in_window_idx')\n",
    "            \n",
    "            dependence_mem['sfcWind_thresholds_djf'] = sfcWind_pr_wdws['sfcWind'].where(np.mod(sfcWind_pr_wdws.time.dt.month,12)<3).quantile(np.arange(.9,1,.01),dim='time_in_window_idx')\n",
    "            dependence_mem['pr_thresholds_djf'] = sfcWind_pr_wdws['pr'].where(np.mod(sfcWind_pr_wdws.time.dt.month,12)<3).quantile(np.arange(.9,1,.01),dim='time_in_window_idx')\n",
    "            \n",
    "            dependence_mem['sfcWind_thresholds_mam'] = sfcWind_pr_wdws['sfcWind'].where((np.mod(sfcWind_pr_wdws.time.dt.month,12)>2) & (np.mod(sfcWind_pr_wdws.time.dt.month,12)<6)).quantile(np.arange(.9,1,.01),dim='time_in_window_idx')\n",
    "            dependence_mem['pr_thresholds_mam'] = sfcWind_pr_wdws['pr'].where((np.mod(sfcWind_pr_wdws.time.dt.month,12)>2) & (np.mod(sfcWind_pr_wdws.time.dt.month,12)<6)).quantile(np.arange(.9,1,.01),dim='time_in_window_idx')\n",
    "            \n",
    "            dependence_mem['sfcWind_thresholds_jja'] = sfcWind_pr_wdws['sfcWind'].where((np.mod(sfcWind_pr_wdws.time.dt.month,12)>5) & (np.mod(sfcWind_pr_wdws.time.dt.month,12)<9)).quantile(np.arange(.9,1,.01),dim='time_in_window_idx')\n",
    "            dependence_mem['pr_thresholds_jja'] = sfcWind_pr_wdws['pr'].where((np.mod(sfcWind_pr_wdws.time.dt.month,12)>5) & (np.mod(sfcWind_pr_wdws.time.dt.month,12)<9)).quantile(np.arange(.9,1,.01),dim='time_in_window_idx')\n",
    "            \n",
    "            dependence_mem['sfcWind_thresholds_son'] = sfcWind_pr_wdws['sfcWind'].where((np.mod(sfcWind_pr_wdws.time.dt.month,12)>8) & (np.mod(sfcWind_pr_wdws.time.dt.month,12)<12)).quantile(np.arange(.9,1,.01),dim='time_in_window_idx')\n",
    "            dependence_mem['pr_thresholds_son'] = sfcWind_pr_wdws['pr'].where((np.mod(sfcWind_pr_wdws.time.dt.month,12)>8) & (np.mod(sfcWind_pr_wdws.time.dt.month,12)<12)).quantile(np.arange(.9,1,.01),dim='time_in_window_idx')\n",
    "            dependence_mem['complete_window'] = data_is_complete #store where windows miss data\n",
    "            \n",
    "            \n",
    "            dependence_mem = dependence_mem.expand_dims(dim={\"member_id\": 1}) #add coordinates & dimensions\n",
    "            #dependence_mem = dependence_mem.assign_coords({'extreme_variate':['sfcWind','pr','both'],'statistic':['coef','p'],'estimator':['cfg','.95']})\n",
    "            \n",
    "            if m==0: #concatenate results over member_id's\n",
    "                dependence = dependence_mem\n",
    "            else:\n",
    "                dependence = xr.concat((dependence,dependence_mem),dim='member_id')    \n",
    "            \n",
    "            dependence.attrs = sfcWind_pr.attrs #keep original attributes and add information on the extremes analysis\n",
    "            dependence.attrs['window_length'] = str(window_len)\n",
    "            dependence.attrs['declustering'] = 'Rolling window of '+str(declus_window_len)+' days'\n",
    "            dependence.attrs['allowed_lag'] = str(max_lag)\n",
    "            \n",
    "            #store for all members of this model & experiment\n",
    "            dependence.to_netcdf(output_fn,mode='w')\n",
    "            dependence.close()\n",
    "            ```"
   ]
  }
 ],
 "metadata": {
  "kernelspec": {
   "display_name": "Python 3 (ipykernel)",
   "language": "python",
   "name": "python3"
  },
  "language_info": {
   "codemirror_mode": {
    "name": "ipython",
    "version": 3
   },
   "file_extension": ".py",
   "mimetype": "text/x-python",
   "name": "python",
   "nbconvert_exporter": "python",
   "pygments_lexer": "ipython3",
   "version": "3.10.11"
  }
 },
 "nbformat": 4,
 "nbformat_minor": 5
}
