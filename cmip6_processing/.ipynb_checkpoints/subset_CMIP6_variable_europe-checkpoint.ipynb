{
 "cells": [
  {
   "cell_type": "code",
   "execution_count": 1,
   "id": "9f0ff811-96d3-4c4b-ae9c-5c34ea682794",
   "metadata": {},
   "outputs": [
    {
     "name": "stderr",
     "output_type": "stream",
     "text": [
      "/tmp/ipykernel_1755/2049443956.py:8: TqdmExperimentalWarning: Using `tqdm.autonotebook.tqdm` in notebook mode. Use `tqdm.tqdm` instead to force console mode (e.g. in jupyter console)\n",
      "  from tqdm.autonotebook import tqdm\n"
     ]
    },
    {
     "data": {
      "text/plain": [
       "'script to regrid CMIP6 datatsets to target grid and store them'"
      ]
     },
     "execution_count": 1,
     "metadata": {},
     "output_type": "execute_result"
    }
   ],
   "source": [
    "import numpy as np\n",
    "import xarray as xr\n",
    "import dask\n",
    "import intake\n",
    "import pandas as pd\n",
    "import os\n",
    "from collections import defaultdict\n",
    "from tqdm.autonotebook import tqdm\n",
    "from xmip.utils import google_cmip_col\n",
    "from xmip.postprocessing import combine_datasets, _match_datasets,_concat_sorted_time\n",
    "from cmip_catalogue_operations import reduce_cat_to_max_num_realizations, drop_vars_from_cat\n",
    "from cmip_ds_dict_operations import preselect_years, pr_flux_to_m, drop_duplicate_timesteps, drop_coords\n",
    "import xesmf as xe\n",
    "import gcsfs\n",
    "fs = gcsfs.GCSFileSystem() #list stores, stripp zarr from filename, load \n",
    "\n",
    "'''script to regrid CMIP6 datatsets to target grid and store them'''"
   ]
  },
  {
   "cell_type": "code",
   "execution_count": 2,
   "id": "275aec62-ab17-43c9-bea6-ba3917c6ed39",
   "metadata": {},
   "outputs": [],
   "source": [
    "#combine_datasets() work around to merge variables into datasets that have not exactly matching coordinates but are supposed to have the same grid\n",
    "def align_lonlat(ds_list):\n",
    "    aligned_ds_list = []\n",
    "    for ds in ds_list: #list of ds can't seem to be passed to xr.align instead\n",
    "        a,b = xr.align(ds_list[0],ds,join='override',exclude=['time','member_id'])\n",
    "        aligned_ds_list.append(b)\n",
    "    return aligned_ds_list\n",
    "\n",
    "def merge_variables_aligning_lonlat(ds_list):\n",
    "    aligned_ds_list = align_lonlat(ds_list) #override same-dimension lon/lat prior to concatenating (ensures lon/lats are not padded)\n",
    "    return xr.merge(aligned_ds_list, join='outer',compat='override')"
   ]
  },
  {
   "cell_type": "markdown",
   "id": "8b0a5ed7-c683-4c1e-818f-946d4d7bcb43",
   "metadata": {},
   "source": [
    "Query simulations & manipulate data catalogue:"
   ]
  },
  {
   "cell_type": "code",
   "execution_count": 3,
   "id": "0e4d6c24-cedc-439a-b12c-30110aaaa899",
   "metadata": {},
   "outputs": [],
   "source": [
    "variable = 'sfcWind' #variable to obtain data for\n",
    "query_vars = ['sfcWind','pr','psl'] #variables models simulations are required to provide\n",
    "\n",
    "''' models with relatively high resolution can be queried using: source_id=highRes_Models in col.search()\n",
    "highRes_models = ['BCC-CSM2-MR','CESM2','CESM2-WACCM','CMCC-ESM2','CMCC-CM2-SR5','EC-Earth3',\n",
    "                'GFDL-CM4','GFDL-ESM4','HadGEM3-GC31-MM','MIROC6','MPI-ESM1-2-HR','MRI-ESM2-0',\n",
    "                'NorESM2-MM','TaiESM1']\n",
    "'''\n",
    "col = google_cmip_col() #xmip wrapper\n",
    "\n",
    "#need to do this for each SSP separately as availability may differ between them\n",
    "cat_data_ssp245 = col.search( #find instances providing all required query_vars for both historical & ssp245 experiments\n",
    "    experiment_id=['historical','ssp245'],\n",
    "    source_id=['HadGEM3-GC31-LL'],\n",
    "    table_id='day',\n",
    "    variable_id=query_vars)#,\n",
    "    #require_all_on=['source_id', 'member_id','grid_label'])\n",
    "\n",
    "cat_data_ssp585 = col.search( #find instances providing all required query_vars for both historical & ssp585 experiments\n",
    "    experiment_id=['historical','ssp585'],\n",
    "    source_id=['HadGEM3-GC31-LL'],\n",
    "    table_id='day',\n",
    "    variable_id=query_vars)#,\n",
    "    #require_all_on=['source_id', 'member_id','grid_label'])\n",
    "\n",
    "cat_data = cat_data_ssp585\n",
    "cat_data.esmcat._df = pd.concat([cat_data_ssp245.df,cat_data_ssp585.df],ignore_index=True).drop_duplicates(ignore_index=True)\n",
    "cat_data = reduce_cat_to_max_num_realizations(cat_data) #per model, select grid and 'ipf' combination providing most realizations\n",
    "\n",
    "#query_vars.remove(variable)\n",
    "#cat_data = drop_vars_from_cat(cat_data,query_vars) #only process in data for 'variable'"
   ]
  },
  {
   "cell_type": "code",
   "execution_count": 6,
   "id": "316d54d3-e3bb-4e09-87ad-843822e4e2e6",
   "metadata": {
    "tags": []
   },
   "outputs": [
    {
     "data": {
      "text/html": [
       "<div>\n",
       "<style scoped>\n",
       "    .dataframe tbody tr th:only-of-type {\n",
       "        vertical-align: middle;\n",
       "    }\n",
       "\n",
       "    .dataframe tbody tr th {\n",
       "        vertical-align: top;\n",
       "    }\n",
       "\n",
       "    .dataframe thead th {\n",
       "        text-align: right;\n",
       "    }\n",
       "</style>\n",
       "<table border=\"1\" class=\"dataframe\">\n",
       "  <thead>\n",
       "    <tr style=\"text-align: right;\">\n",
       "      <th></th>\n",
       "      <th>activity_id</th>\n",
       "      <th>institution_id</th>\n",
       "      <th>source_id</th>\n",
       "      <th>experiment_id</th>\n",
       "      <th>member_id</th>\n",
       "      <th>table_id</th>\n",
       "      <th>variable_id</th>\n",
       "      <th>grid_label</th>\n",
       "      <th>zstore</th>\n",
       "      <th>dcpp_init_year</th>\n",
       "      <th>version</th>\n",
       "    </tr>\n",
       "  </thead>\n",
       "  <tbody>\n",
       "    <tr>\n",
       "      <th>0</th>\n",
       "      <td>ScenarioMIP</td>\n",
       "      <td>CAS</td>\n",
       "      <td>FGOALS-g3</td>\n",
       "      <td>ssp245</td>\n",
       "      <td>r1i1p1f1</td>\n",
       "      <td>day</td>\n",
       "      <td>pr</td>\n",
       "      <td>gn</td>\n",
       "      <td>gs://cmip6/CMIP6/ScenarioMIP/CAS/FGOALS-g3/ssp...</td>\n",
       "      <td>NaN</td>\n",
       "      <td>20190818</td>\n",
       "    </tr>\n",
       "    <tr>\n",
       "      <th>5</th>\n",
       "      <td>ScenarioMIP</td>\n",
       "      <td>CAS</td>\n",
       "      <td>FGOALS-g3</td>\n",
       "      <td>ssp245</td>\n",
       "      <td>r2i1p1f1</td>\n",
       "      <td>day</td>\n",
       "      <td>pr</td>\n",
       "      <td>gn</td>\n",
       "      <td>gs://cmip6/CMIP6/ScenarioMIP/CAS/FGOALS-g3/ssp...</td>\n",
       "      <td>NaN</td>\n",
       "      <td>20191212</td>\n",
       "    </tr>\n",
       "    <tr>\n",
       "      <th>4</th>\n",
       "      <td>ScenarioMIP</td>\n",
       "      <td>CAS</td>\n",
       "      <td>FGOALS-g3</td>\n",
       "      <td>ssp245</td>\n",
       "      <td>r3i1p1f1</td>\n",
       "      <td>day</td>\n",
       "      <td>pr</td>\n",
       "      <td>gn</td>\n",
       "      <td>gs://cmip6/CMIP6/ScenarioMIP/CAS/FGOALS-g3/ssp...</td>\n",
       "      <td>NaN</td>\n",
       "      <td>20191212</td>\n",
       "    </tr>\n",
       "    <tr>\n",
       "      <th>6</th>\n",
       "      <td>ScenarioMIP</td>\n",
       "      <td>CAS</td>\n",
       "      <td>FGOALS-g3</td>\n",
       "      <td>ssp245</td>\n",
       "      <td>r4i1p1f1</td>\n",
       "      <td>day</td>\n",
       "      <td>pr</td>\n",
       "      <td>gn</td>\n",
       "      <td>gs://cmip6/CMIP6/ScenarioMIP/CAS/FGOALS-g3/ssp...</td>\n",
       "      <td>NaN</td>\n",
       "      <td>20191212</td>\n",
       "    </tr>\n",
       "  </tbody>\n",
       "</table>\n",
       "</div>"
      ],
      "text/plain": [
       "   activity_id institution_id  source_id experiment_id member_id table_id   \n",
       "0  ScenarioMIP            CAS  FGOALS-g3        ssp245  r1i1p1f1      day  \\\n",
       "5  ScenarioMIP            CAS  FGOALS-g3        ssp245  r2i1p1f1      day   \n",
       "4  ScenarioMIP            CAS  FGOALS-g3        ssp245  r3i1p1f1      day   \n",
       "6  ScenarioMIP            CAS  FGOALS-g3        ssp245  r4i1p1f1      day   \n",
       "\n",
       "  variable_id grid_label                                             zstore   \n",
       "0          pr         gn  gs://cmip6/CMIP6/ScenarioMIP/CAS/FGOALS-g3/ssp...  \\\n",
       "5          pr         gn  gs://cmip6/CMIP6/ScenarioMIP/CAS/FGOALS-g3/ssp...   \n",
       "4          pr         gn  gs://cmip6/CMIP6/ScenarioMIP/CAS/FGOALS-g3/ssp...   \n",
       "6          pr         gn  gs://cmip6/CMIP6/ScenarioMIP/CAS/FGOALS-g3/ssp...   \n",
       "\n",
       "   dcpp_init_year   version  \n",
       "0             NaN  20190818  \n",
       "5             NaN  20191212  \n",
       "4             NaN  20191212  \n",
       "6             NaN  20191212  "
      ]
     },
     "execution_count": 6,
     "metadata": {},
     "output_type": "execute_result"
    }
   ],
   "source": [
    "cat_data.df[cat_data.df.experiment_id=='ssp245'].sort_values(by='member_id')[0:50]"
   ]
  },
  {
   "cell_type": "markdown",
   "id": "2538de84-573b-4ce2-b742-f16017a457f5",
   "metadata": {},
   "source": [
    "Gist to load in additional CMIP6 data residing in Julis' buckets:\n",
    "\n",
    "```python\n",
    "#ddict_manual = {ddict_manual = {k.split('/')[-1].replace('.zarr',''):xr.open_dataset(fs.get_mapper(k),engine='zarr',chunks={}) for k in fs.ls('leap-persistent/jbusecke/data/CMIP6/dataflow_test_production')}\n",
    "k.split('/')[-1].replace('.zarr',''):xr.open_dataset(fs.get_mapper(k),engine='zarr',chunks={}) for k in fs.ls('leap-persistent/jbusecke/data/CMIP6/manual_test')}\n",
    "ddict_manual = {k.split('/')[-1].replace('.zarr',''):xr.open_dataset(fs.get_mapper(k),engine='zarr',chunks={}) for k in fs.ls('leap-persistent/jbusecke/data/CMIP6/dataflow_test_production')}\n",
    "```"
   ]
  },
  {
   "cell_type": "markdown",
   "id": "df5cecae-2b3d-4a4d-a29a-752868fa9645",
   "metadata": {},
   "source": [
    "Open datasets into dictionary:"
   ]
  },
  {
   "cell_type": "code",
   "execution_count": 4,
   "id": "65512009-c0b2-42fc-94a9-e9a9f892d5ef",
   "metadata": {},
   "outputs": [
    {
     "name": "stdout",
     "output_type": "stream",
     "text": [
      "\n",
      "--> The keys in the returned dictionary of datasets are constructed as follows:\n",
      "\t'activity_id.institution_id.source_id.experiment_id.member_id.table_id.variable_id.grid_label.zstore.dcpp_init_year.version'\n"
     ]
    },
    {
     "name": "stderr",
     "output_type": "stream",
     "text": [
      "/tmp/ipykernel_1058/3326101122.py:6: DeprecationWarning: cdf_kwargs and zarr_kwargs are deprecated and will be removed in a future version. Please use xarray_open_kwargs instead.\n",
      "  ddict = cat_data.to_dataset_dict(**kwargs) #open datasets into dictionary\n"
     ]
    },
    {
     "data": {
      "text/html": [
       "\n",
       "<style>\n",
       "    /* Turns off some styling */\n",
       "    progress {\n",
       "        /* gets rid of default border in Firefox and Opera. */\n",
       "        border: none;\n",
       "        /* Needs to be in here for Safari polyfill so background images work as expected. */\n",
       "        background-size: auto;\n",
       "    }\n",
       "    progress:not([value]), progress:not([value])::-webkit-progress-bar {\n",
       "        background: repeating-linear-gradient(45deg, #7e7e7e, #7e7e7e 10px, #5c5c5c 10px, #5c5c5c 20px);\n",
       "    }\n",
       "    .progress-bar-interrupted, .progress-bar-interrupted::-webkit-progress-bar {\n",
       "        background: #F44336;\n",
       "    }\n",
       "</style>\n"
      ],
      "text/plain": [
       "<IPython.core.display.HTML object>"
      ]
     },
     "metadata": {},
     "output_type": "display_data"
    },
    {
     "data": {
      "text/html": [
       "\n",
       "    <div>\n",
       "      <progress value='6' class='' max='6' style='width:300px; height:20px; vertical-align: middle;'></progress>\n",
       "      100.00% [6/6 00:04&lt;00:00]\n",
       "    </div>\n",
       "    "
      ],
      "text/plain": [
       "<IPython.core.display.HTML object>"
      ]
     },
     "metadata": {},
     "output_type": "display_data"
    }
   ],
   "source": [
    "cat_data.esmcat.aggregation_control.groupby_attrs = [] #to circumvent aggregate=false bug\n",
    "\n",
    "#to avoid this issue: https://github.com/intake/intake-esm/issues/496\n",
    "    #doesn't actually aggregate if we set cmip6_cat.esmcat.aggregation_control.groupby_attrs = []\n",
    "kwargs = {'zarr_kwargs':{'consolidated':True,'use_cftime':True},'aggregate':True} #keyword arguments for generating dictionary of datasets from cmip6 catalogue\n",
    "ddict = cat_data.to_dataset_dict(**kwargs) #open datasets into dictionary"
   ]
  },
  {
   "cell_type": "code",
   "execution_count": 5,
   "id": "9769a6a5-dbb9-42d8-8119-81d044abce1b",
   "metadata": {},
   "outputs": [],
   "source": [
    "if variable=='pr':\n",
    "    ddict = pr_flux_to_m(ddict) #convert pr flux to accumulated pr\n",
    "ddict = drop_duplicate_timesteps(ddict) #CESM2-WACCM has duplicate timesteps\n",
    "ddict = preselect_years(ddict,1850,2100) #some models have time series until post-2100, we exclude those here\n",
    "ddict = drop_coords(ddict,['bnds','nbnd'])"
   ]
  },
  {
   "cell_type": "code",
   "execution_count": 6,
   "id": "915aabb7-d78d-4d84-ad0f-0e9e96f8d9e6",
   "metadata": {},
   "outputs": [],
   "source": [
    "target_grid = xr.Dataset( #define the common grid used for analysis and to derive the MLR coefficients (approximately average grid resolution of included CMIP6 models)\n",
    "        {   \"longitude\": ([\"longitude\"], np.arange(-30,22.5,1.5), {\"units\": \"degrees_east\"}),\n",
    "            \"latitude\": ([\"latitude\"], np.arange(30,70.5,1.5), {\"units\": \"degrees_north\"}),})"
   ]
  },
  {
   "cell_type": "code",
   "execution_count": 7,
   "id": "9e9c0b5a-3f22-4e77-ba19-f27f7b9fe58b",
   "metadata": {},
   "outputs": [],
   "source": [
    "with dask.config.set(**{'array.slicing.split_large_chunks': True}): #join=outer pads NaNs which result in large chunks for timeseries that differ in length\n",
    "    ddict_merged = combine_datasets(ddict,merge_variables_aligning_lonlat,match_attrs=['source_id', 'grid_label', 'experiment_id', 'table_id','variant_label']) #group datasets of same model"
   ]
  },
  {
   "cell_type": "markdown",
   "id": "2d92478f-f7ec-4177-878f-efe18bd294f0",
   "metadata": {},
   "source": [
    "Do the subsetting at the target grid:"
   ]
  },
  {
   "cell_type": "code",
   "execution_count": 8,
   "id": "8473c526-5688-44b7-8054-8c5fe283a779",
   "metadata": {
    "tags": []
   },
   "outputs": [],
   "source": [
    "#subsetting for coarse MPI-ESM1-2-HR\n",
    "for key,ds in ddict_merged.items():\n",
    "    if key in ['MPI-ESM1-2-HR.gn.ssp585.day.r1i1p1f1','MPI-ESM1-2-HR.gn.historical.day.r1i1p1f1']:\n",
    "        \n",
    "        regridder = xe.Regridder(ds,ddict_merged['CanESM5.gn.historical.day.r1i1p1f1'],'bilinear',ignore_degenerate=True,periodic=True) # #define regridder for this model/grid\n",
    "    \n",
    "        ds = ds.isel(dcpp_init_year=0,drop=True)\n",
    "        regridded_ds = regridder(ds,keep_attrs=True) #do the regridding\n",
    "        model_path = os.path.join('leap-persistent/timh37/CMIP6/subsetted_data/'+variable+'_europe/',ds.source_id+'_CanESM5_grid') #store to leap-persistent\n",
    "        regridded_ds = regridded_ds.rename_dims({'lat':'latitude','lon':'longitude'})\n",
    "        regridded_ds.chunk({'member_id':1,'longitude':5,'time':100000}).to_zarr(os.path.join('gs://',model_path,key.replace('.','_')+'.zarr'),mode='w') #store to leap-persistent as .zarr\n",
    "        regridded_ds.close()    \n",
    "  "
   ]
  },
  {
   "cell_type": "code",
   "execution_count": 9,
   "id": "cba17baf-805b-4e10-a073-7c5217cca98c",
   "metadata": {},
   "outputs": [],
   "source": [
    "for key,ds in ddict_merged.items():\n",
    "    lon_coord = list(k for k in ds.dims if 'lon' in k)[0] #find lon/lat coordinate names of CMIP6 model\n",
    "    \n",
    "    #two lines below may not be necessary if periodic=True in xe.Regridder?\n",
    "    ds.coords[lon_coord] = ((ds.coords[lon_coord] + 180) % 360) - 180 #wrap around 0\n",
    "    ds = ds.reindex({ lon_coord : np.sort(ds[lon_coord])})\n",
    "    \n",
    "    ds.attrs[\"original_key\"] = key #add key information to attributes\n",
    "    ddict_merged[key] = ds\n",
    "\n",
    "ddict_eu = defaultdict(dict) #generate new dictionary holding data for European subdomain\n",
    "ds_dict = {k: v for k, v in ddict_merged.items()}\n",
    "\n",
    "while len(ds_dict) > 0: #<- copied from xmip's combine_datasets\n",
    "    k = list(ds_dict.keys())[0]\n",
    "    ds = ds_dict.pop(k)\n",
    "\n",
    "    matched_datasets = _match_datasets(ds, ds_dict, ['source_id', 'grid_label'], pop=True) #find datasets belonging to same model/grid\n",
    "    regridder = xe.Regridder(matched_datasets[0],target_grid,'bilinear',ignore_degenerate=True,periodic=True) # #define regridder for this model/grid\n",
    "    \n",
    "    for matched_ds in matched_datasets:\n",
    "        first_ds,aligned_ds = xr.align(matched_datasets[0],matched_ds,join='override',exclude=['time','member_id','dcpp_init_year']) #makes sure lon/lat coordinates of each model simulation are exactly the same\n",
    "\n",
    "        aligned_ds = aligned_ds.isel(dcpp_init_year=0,drop=True) #get rid of dcpp_init_year dimension\n",
    "        ddict_eu[matched_ds.original_key] = regridder(aligned_ds,keep_attrs=True) #do the regridding"
   ]
  },
  {
   "cell_type": "markdown",
   "id": "33350914-b9d3-43c8-875d-38bfa83ac491",
   "metadata": {},
   "source": [
    "Store the dataset to leap-persistent share (directories structured per model):"
   ]
  },
  {
   "cell_type": "code",
   "execution_count": 10,
   "id": "013e49c6-208a-4a23-840c-144f08f2dadc",
   "metadata": {},
   "outputs": [
    {
     "data": {
      "application/vnd.jupyter.widget-view+json": {
       "model_id": "f1cf0605f52644c9956833cb7b11b412",
       "version_major": 2,
       "version_minor": 0
      },
      "text/plain": [
       "  0%|          | 0/395 [00:00<?, ?it/s]"
      ]
     },
     "metadata": {},
     "output_type": "display_data"
    }
   ],
   "source": [
    "for key,ds in tqdm(ddict_eu.items()):\n",
    "    model_path = os.path.join('leap-persistent/timh37/CMIP6/subsetted_data/'+variable+'_europe/',ds.source_id) #store to leap-persistent\n",
    "    ds.chunk({'member_id':1,'longitude':5,'time':100000}).to_zarr(os.path.join('gs://',model_path,key.replace('.','_')+'.zarr'),mode='w') #store to leap-persistent as .zarr\n",
    "    ds.close()"
   ]
  }
 ],
 "metadata": {
  "kernelspec": {
   "display_name": "Python 3 (ipykernel)",
   "language": "python",
   "name": "python3"
  },
  "language_info": {
   "codemirror_mode": {
    "name": "ipython",
    "version": 3
   },
   "file_extension": ".py",
   "mimetype": "text/x-python",
   "name": "python",
   "nbconvert_exporter": "python",
   "pygments_lexer": "ipython3",
   "version": "3.10.11"
  }
 },
 "nbformat": 4,
 "nbformat_minor": 5
}
