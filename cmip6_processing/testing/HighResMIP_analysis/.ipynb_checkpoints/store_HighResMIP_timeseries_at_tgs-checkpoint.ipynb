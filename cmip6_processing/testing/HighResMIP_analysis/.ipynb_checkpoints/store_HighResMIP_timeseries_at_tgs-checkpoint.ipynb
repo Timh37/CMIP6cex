{
 "cells": [
  {
   "cell_type": "code",
   "execution_count": 1,
   "id": "39f6db52-8855-4fee-b7dc-a1820c5fa819",
   "metadata": {
    "tags": []
   },
   "outputs": [
    {
     "name": "stderr",
     "output_type": "stream",
     "text": [
      "/tmp/ipykernel_966/1166859892.py:9: TqdmExperimentalWarning: Using `tqdm.autonotebook.tqdm` in notebook mode. Use `tqdm.tqdm` instead to force console mode (e.g. in jupyter console)\n",
      "  from tqdm.autonotebook import tqdm\n"
     ]
    }
   ],
   "source": [
    "'''script to regrid CMIP6 datatsets to target grid and store them'''\n",
    "import numpy as np\n",
    "import xarray as xr\n",
    "import dask\n",
    "import os\n",
    "import intake\n",
    "import pandas as pd\n",
    "from collections import defaultdict\n",
    "from tqdm.autonotebook import tqdm\n",
    "from xmip.utils import google_cmip_col\n",
    "from xmip.postprocessing import combine_datasets,_concat_sorted_time, merge_variables\n",
    "from cmip_catalogue_operations import reduce_cat_to_max_num_realizations, drop_vars_from_cat, drop_older_versions\n",
    "from cmip_ds_dict_operations import select_period, pr_flux_to_m, drop_duplicate_timesteps, drop_coords, drop_incomplete\n",
    "import xesmf as xe\n",
    "import gcsfs\n",
    "fs = gcsfs.GCSFileSystem() #list stores, stripp zarr from filename, load "
   ]
  },
  {
   "cell_type": "code",
   "execution_count": 2,
   "id": "2208f39c-fffe-4116-8601-671042a9fdc7",
   "metadata": {
    "tags": []
   },
   "outputs": [],
   "source": [
    "#configure settings\n",
    "output_path = 'gs://leap-persistent/timh37/HighResMIP/timeseries_eu_gesla2_tgs/'\n",
    "overwrite_existing = False #whether or not to process files for which output already exists in the output path\n",
    "\n",
    "target_grid = xr.Dataset( #grid to interpolate CMIP6 simulations to\n",
    "        {   \"longitude\": ([\"longitude\"], np.arange(-30,22.5,1.5), {\"units\": \"degrees_east\"}),\n",
    "            \"latitude\": ([\"latitude\"], np.arange(70,30,-1.5), {\"units\": \"degrees_north\"}),})\n",
    "\n",
    "tg_coords = xr.open_dataset('/home/jovyan/CMIP6cex/cmip6_processing/gssr_mlr_coefs_1p5_9deg_gesla2.nc')\n",
    "\n",
    "query_vars = ['sfcWind','pr'] #variables to process\n",
    "required_vars = ['sfcWind','pr','psl'] #variables that includes models should provide\n",
    "freq = 'day'"
   ]
  },
  {
   "cell_type": "code",
   "execution_count": 9,
   "id": "cf5cbaaf-3a0d-4851-a158-c6add1bab89f",
   "metadata": {
    "tags": []
   },
   "outputs": [
    {
     "name": "stdout",
     "output_type": "stream",
     "text": [
      "\n",
      "--> The keys in the returned dictionary of datasets are constructed as follows:\n",
      "\t'activity_id.institution_id.source_id.experiment_id.member_id.table_id.variable_id.grid_label.zstore.dcpp_init_year.version'\n"
     ]
    },
    {
     "data": {
      "text/html": [
       "\n",
       "<style>\n",
       "    /* Turns off some styling */\n",
       "    progress {\n",
       "        /* gets rid of default border in Firefox and Opera. */\n",
       "        border: none;\n",
       "        /* Needs to be in here for Safari polyfill so background images work as expected. */\n",
       "        background-size: auto;\n",
       "    }\n",
       "    progress:not([value]), progress:not([value])::-webkit-progress-bar {\n",
       "        background: repeating-linear-gradient(45deg, #7e7e7e, #7e7e7e 10px, #5c5c5c 10px, #5c5c5c 20px);\n",
       "    }\n",
       "    .progress-bar-interrupted, .progress-bar-interrupted::-webkit-progress-bar {\n",
       "        background: #F44336;\n",
       "    }\n",
       "</style>\n"
      ],
      "text/plain": [
       "<IPython.core.display.HTML object>"
      ]
     },
     "metadata": {},
     "output_type": "display_data"
    },
    {
     "data": {
      "text/html": [
       "\n",
       "    <div>\n",
       "      <progress value='6' class='' max='6' style='width:300px; height:20px; vertical-align: middle;'></progress>\n",
       "      100.00% [6/6 00:00&lt;00:00]\n",
       "    </div>\n",
       "    "
      ],
      "text/plain": [
       "<IPython.core.display.HTML object>"
      ]
     },
     "metadata": {},
     "output_type": "display_data"
    }
   ],
   "source": [
    "#query simulations & manipulate data catalog:\n",
    "col = google_cmip_col() #google cloud catalog\n",
    "\n",
    "#cat = col.search(activity_id='HighResMIP',table_id='6hrPlevPt',variable_id=['psl','sfcWind','vas','uas'],experiment_id = [' highres-future','highresSST-present','hist-1950','highresSST-future'])\n",
    "#cat = col.search(activity_id='HighResMIP',table_id='6hrPlevPt',variable_id=['psl','uas','vas'],source_id='GFDL-CM4C192',require_all_on=['member_id','grid_label','experiment_id'])\n",
    "cat = col.search(activity_id='HighResMIP',table_id=freq,experiment_id=['highresSST-present','highresSST-future'],variable_id=['psl','pr','sfcWind'],source_id='GFDL-CM4C192',require_all_on=['member_id','grid_label','experiment_id'])\n",
    "cat = drop_vars_from_cat(cat,[k for k in required_vars if k not in query_vars]) #only process desired variables\n",
    "\n",
    "kwargs = {'zarr_kwargs':{'consolidated':True,'use_cftime':True},'aggregate':False} #keyword arguments for generating dictionary of datasets from cmip6 catalogue\n",
    "ddict = cat.to_dataset_dict(**kwargs) #open datasets into dictionary\n",
    "\n",
    "ddict = pr_flux_to_m(ddict) #convert pr flux to accumulated pr if pr in ds\n",
    "ddict = drop_duplicate_timesteps(ddict) #remove duplicate timesteps from ds if present\n",
    "ddict = drop_coords(ddict,['bnds','nbnd','height']) #remove some unused auxiliary coordinates\n",
    "    \n",
    "with dask.config.set(**{'array.slicing.split_large_chunks': True}):\n",
    "    hist_fut = combine_datasets(ddict,_concat_sorted_time,match_attrs =['source_id', 'grid_label','table_id','variant_label','variable_id'],combine_func_kwargs={'join':'inner','coords':'minimal'})    \n",
    "\n",
    "hist_fut = drop_duplicate_timesteps(hist_fut) #remove overlap between historical and ssp experiments which sometimes exists\n",
    "hist_fut = drop_incomplete(hist_fut) #remove historical+ssp timeseries which are not montonically increasing or have large timegaps (based on Julius Buseckes rudimentary testing in CMIP6-LEAP-feadstock)\n",
    "        "
   ]
  },
  {
   "cell_type": "code",
   "execution_count": 21,
   "id": "0852da11-77ee-409b-8e53-779f38103aeb",
   "metadata": {
    "tags": []
   },
   "outputs": [
    {
     "data": {
      "application/vnd.jupyter.widget-view+json": {
       "model_id": "81570c0fca57431eb7391f22f5de4ed4",
       "version_major": 2,
       "version_minor": 0
      },
      "text/plain": [
       "  0%|          | 0/3 [00:00<?, ?it/s]"
      ]
     },
     "metadata": {},
     "output_type": "display_data"
    }
   ],
   "source": [
    "regridded_datasets = defaultdict(dict)\n",
    "for key,ds in tqdm(hist_fut.items()):\n",
    "    variable = key.split('.')[-1]\n",
    "\n",
    "    output_fn = os.path.join(output_path,variable,freq,ds.source_id,key+'.highresSST-pres_fut')\n",
    "\n",
    "    try:\n",
    "        if overwrite_existing or not fs.exists(output_fn):\n",
    "            ds.attrs[\"time_concat_key\"] = key+'.highresSST-pres_fut' #add current key information to attributes\n",
    "            ds = ds.isel(dcpp_init_year=0,drop=True) #remove this coordinate\n",
    "            \n",
    "            datasets=[]\n",
    "            for tg in range(len(tg_coords.tg)):\n",
    "                single_tg = tg_coords.isel(tg=[tg])\n",
    "                regridder = xe.Regridder(ds,single_tg, method='nearest_s2d')\n",
    "                datasets.append(regridder(ds,keep_attrs=True).squeeze())\n",
    "                \n",
    "            ds_at_tgs = xr.concat(datasets, dim='tg')\n",
    "            ds_at_tgs['tg'] = tg_coords.tg.values\n",
    "            ds_at_tgs = ds_at_tgs.unify_chunks().chunk({'time':100000,'tg':200})\n",
    "            ds_at_tgs['tg'] = ds_at_tgs.tg.astype('str') #something wrong with encoding object types in zarr, this is the work-around\n",
    "    \n",
    "            ds_at_tgs.to_zarr(output_fn,mode='w') \n",
    "            \n",
    "            ds_at_tgs.close()\n",
    "        else:\n",
    "            continue\n",
    "    except:\n",
    "        pass"
   ]
  }
 ],
 "metadata": {
  "kernelspec": {
   "display_name": "Python 3 (ipykernel)",
   "language": "python",
   "name": "python3"
  },
  "language_info": {
   "codemirror_mode": {
    "name": "ipython",
    "version": 3
   },
   "file_extension": ".py",
   "mimetype": "text/x-python",
   "name": "python",
   "nbconvert_exporter": "python",
   "pygments_lexer": "ipython3",
   "version": "3.10.12"
  }
 },
 "nbformat": 4,
 "nbformat_minor": 5
}
