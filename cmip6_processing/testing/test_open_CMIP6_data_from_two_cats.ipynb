{
 "cells": [
  {
   "cell_type": "code",
   "execution_count": 6,
   "id": "9f0ff811-96d3-4c4b-ae9c-5c34ea682794",
   "metadata": {},
   "outputs": [],
   "source": [
    "import numpy as np\n",
    "import xarray as xr\n",
    "import dask\n",
    "import intake\n",
    "import pandas as pd\n",
    "import os\n",
    "from collections import defaultdict\n",
    "from tqdm.autonotebook import tqdm\n",
    "from xmip.utils import google_cmip_col\n",
    "from cmip_catalogue_operations import reduce_cat_to_max_num_realizations, drop_vars_from_cat\n",
    "from cmip_ds_dict_operations import drop_incomplete\n",
    "import typing\n",
    "import itertools\n",
    "import gcsfs\n",
    "fs = gcsfs.GCSFileSystem() #list stores, stripp zarr from filename, load "
   ]
  },
  {
   "cell_type": "code",
   "execution_count": 3,
   "id": "0e4d6c24-cedc-439a-b12c-30110aaaa899",
   "metadata": {},
   "outputs": [],
   "source": [
    "gcol = google_cmip_col() #xmip wrapper\n",
    "ccol = intake.open_esm_datastore(\"https://storage.googleapis.com/leap-persistent-ro/data-library/catalogs/cmip6-test/leap-pangeo-cmip6-test.json\")\n",
    "gcol.esmcat._df = pd.concat([gcol.df,ccol.df],ignore_index=True)\n",
    "\n",
    "variable = 'sfcWind' #variable to obtain data for\n",
    "query_vars = ['sfcWind','pr','psl'] #variables models simulations are required to provide\n",
    "experiments = ['historical','ssp245']\n",
    "\n",
    "cat_ssp245 = gcol.search( #find instances providing all required query_vars for both historical & ssp245 experiments\n",
    "    experiment_id=['historical','ssp245'],\n",
    "    table_id='day',\n",
    "    variable_id=query_vars,\n",
    "    require_all_on=['source_id', 'member_id','grid_label'])\n",
    "\n",
    "cat_ssp585 = gcol.search( #find instances providing all required query_vars for both historical & ssp245 experiments\n",
    "    experiment_id=['historical','ssp585'],\n",
    "    table_id='day',\n",
    "    variable_id=query_vars,\n",
    "    require_all_on=['source_id', 'member_id','grid_label'])\n",
    "\n",
    "cat = cat_ssp245\n",
    "cat.esmcat._df = pd.concat([cat_ssp245.df,cat_ssp585.df],ignore_index=True).drop_duplicates(ignore_index=True) #combine the dataframes of the two catalogues\n",
    "cat = reduce_cat_to_max_num_realizations(cat) #per model, select grid and 'ipf' combination providing most realizations"
   ]
  },
  {
   "cell_type": "markdown",
   "id": "d75db5b8-8ff4-4639-a265-4668f3a56e2f",
   "metadata": {},
   "source": [
    "To deal with duplicates with different versions, keep the newest versions. Executed by ordering versions ascendingly, "
   ]
  },
  {
   "cell_type": "code",
   "execution_count": 4,
   "id": "d2c0a70e-ae95-4767-b00d-4dfd39c4d4fa",
   "metadata": {},
   "outputs": [],
   "source": [
    "for i in np.arange(len(cat.df)):\n",
    "    if isinstance(cat.df.loc[i,'version'],int)==False:\n",
    "        cat.df.loc[i,'version'] = int(cat.df.loc[i,'version'].replace('v',''))\n",
    "cat.esmcat._df = cat.df.sort_values(by='version', ascending=False).drop_duplicates(subset=['activity_id','institution_id','source_id','experiment_id','member_id','table_id','variable_id','grid_label']).sort_index()"
   ]
  },
  {
   "cell_type": "code",
   "execution_count": 5,
   "id": "28d13a7b-6d12-4ce3-968c-223e7752a921",
   "metadata": {
    "tags": []
   },
   "outputs": [
    {
     "name": "stdout",
     "output_type": "stream",
     "text": [
      "ACCESS-CM2\n",
      "ssp245\n",
      "5\n",
      "ssp585\n",
      "7\n",
      "ACCESS-ESM1-5\n",
      "ssp245\n",
      "40\n",
      "ssp585\n",
      "40\n",
      "CESM2\n",
      "ssp245\n",
      "2\n",
      "ssp585\n",
      "2\n",
      "CESM2-WACCM\n",
      "ssp245\n",
      "3\n",
      "ssp585\n",
      "3\n",
      "CMCC-CM2-SR5\n",
      "ssp245\n",
      "1\n",
      "ssp585\n",
      "1\n",
      "CMCC-ESM2\n",
      "ssp245\n",
      "1\n",
      "ssp585\n",
      "1\n",
      "CanESM5\n",
      "ssp245\n",
      "25\n",
      "ssp585\n",
      "25\n",
      "EC-Earth3\n",
      "ssp245\n",
      "63\n",
      "ssp585\n",
      "26\n",
      "EC-Earth3-Veg\n",
      "ssp245\n",
      "1\n",
      "ssp585\n",
      "0\n",
      "FGOALS-g3\n",
      "ssp245\n",
      "2\n",
      "ssp585\n",
      "0\n",
      "GFDL-CM4\n",
      "ssp245\n",
      "1\n",
      "ssp585\n",
      "1\n",
      "GFDL-ESM4\n",
      "ssp245\n",
      "1\n",
      "ssp585\n",
      "1\n",
      "HadGEM3-GC31-LL\n",
      "ssp245\n",
      "5\n",
      "ssp585\n",
      "4\n",
      "HadGEM3-GC31-MM\n",
      "ssp245\n",
      "0\n",
      "ssp585\n",
      "4\n",
      "IITM-ESM\n",
      "ssp245\n",
      "1\n",
      "ssp585\n",
      "1\n",
      "INM-CM4-8\n",
      "ssp245\n",
      "1\n",
      "ssp585\n",
      "1\n",
      "INM-CM5-0\n",
      "ssp245\n",
      "1\n",
      "ssp585\n",
      "1\n",
      "IPSL-CM6A-LR\n",
      "ssp245\n",
      "11\n",
      "ssp585\n",
      "7\n",
      "KACE-1-0-G\n",
      "ssp245\n",
      "3\n",
      "ssp585\n",
      "3\n",
      "MIROC-ES2L\n",
      "ssp245\n",
      "10\n",
      "ssp585\n",
      "1\n",
      "MIROC6\n",
      "ssp245\n",
      "45\n",
      "ssp585\n",
      "50\n",
      "MPI-ESM1-2-HR\n",
      "ssp245\n",
      "2\n",
      "ssp585\n",
      "2\n",
      "MPI-ESM1-2-LR\n",
      "ssp245\n",
      "24\n",
      "ssp585\n",
      "24\n",
      "MRI-ESM2-0\n",
      "ssp245\n",
      "5\n",
      "ssp585\n",
      "5\n",
      "NorESM2-LM\n",
      "ssp245\n",
      "3\n",
      "ssp585\n",
      "1\n",
      "NorESM2-MM\n",
      "ssp245\n",
      "2\n",
      "ssp585\n",
      "1\n",
      "TaiESM1\n",
      "ssp245\n",
      "1\n",
      "ssp585\n",
      "1\n",
      "UKESM1-0-LL\n",
      "ssp245\n",
      "5\n",
      "ssp585\n",
      "5\n"
     ]
    }
   ],
   "source": [
    "for source_id in cat.df.source_id.unique():\n",
    "    print(source_id)\n",
    "    print('ssp245')\n",
    "    print(len(cat.df[(cat.df.source_id==source_id)&(cat.df.experiment_id=='ssp245')].member_id.unique()))\n",
    "    print('ssp585')\n",
    "    print(len(cat.df[(cat.df.source_id==source_id)&(cat.df.experiment_id=='ssp585')].member_id.unique()))"
   ]
  },
  {
   "cell_type": "code",
   "execution_count": 6,
   "id": "60374e0f-e0d8-42ca-839c-8943a9b27f50",
   "metadata": {
    "tags": []
   },
   "outputs": [
    {
     "name": "stdout",
     "output_type": "stream",
     "text": [
      "\n",
      "--> The keys in the returned dictionary of datasets are constructed as follows:\n",
      "\t'activity_id.institution_id.source_id.experiment_id.member_id.table_id.variable_id.grid_label.zstore.dcpp_init_year.version'\n"
     ]
    },
    {
     "data": {
      "text/html": [
       "\n",
       "<style>\n",
       "    /* Turns off some styling */\n",
       "    progress {\n",
       "        /* gets rid of default border in Firefox and Opera. */\n",
       "        border: none;\n",
       "        /* Needs to be in here for Safari polyfill so background images work as expected. */\n",
       "        background-size: auto;\n",
       "    }\n",
       "    progress:not([value]), progress:not([value])::-webkit-progress-bar {\n",
       "        background: repeating-linear-gradient(45deg, #7e7e7e, #7e7e7e 10px, #5c5c5c 10px, #5c5c5c 20px);\n",
       "    }\n",
       "    .progress-bar-interrupted, .progress-bar-interrupted::-webkit-progress-bar {\n",
       "        background: #F44336;\n",
       "    }\n",
       "</style>\n"
      ],
      "text/plain": [
       "<IPython.core.display.HTML object>"
      ]
     },
     "metadata": {},
     "output_type": "display_data"
    },
    {
     "data": {
      "text/html": [
       "\n",
       "    <div>\n",
       "      <progress value='746' class='' max='746' style='width:300px; height:20px; vertical-align: middle;'></progress>\n",
       "      100.00% [746/746 01:37&lt;00:00]\n",
       "    </div>\n",
       "    "
      ],
      "text/plain": [
       "<IPython.core.display.HTML object>"
      ]
     },
     "metadata": {},
     "output_type": "display_data"
    }
   ],
   "source": [
    "#test loading in data for a single variable\n",
    "query_vars.remove(variable)\n",
    "cat = drop_vars_from_cat(cat,query_vars) #only process data for 'variable'\n",
    "\n",
    "cat.esmcat.aggregation_control.groupby_attrs = [] #to circumvent aggregate=false bug\n",
    "\n",
    "#to avoid this issue: https://github.com/intake/intake-esm/issues/496\n",
    "    #doesn't actually aggregate if we set cmip6_cat.esmcat.aggregation_control.groupby_attrs = []\n",
    "kwargs = {'zarr_kwargs':{'consolidated':True,'use_cftime':True},'aggregate':True} #keyword arguments for generating dictionary of datasets from cmip6 catalogue\n",
    "ddict = cat.to_dataset_dict(**kwargs) #open datasets into dictionary\n"
   ]
  },
  {
   "cell_type": "markdown",
   "id": "228d4612-db28-41be-bbaa-332c3b91668a",
   "metadata": {},
   "source": [
    "Loading in works."
   ]
  }
 ],
 "metadata": {
  "kernelspec": {
   "display_name": "Python 3 (ipykernel)",
   "language": "python",
   "name": "python3"
  },
  "language_info": {
   "codemirror_mode": {
    "name": "ipython",
    "version": 3
   },
   "file_extension": ".py",
   "mimetype": "text/x-python",
   "name": "python",
   "nbconvert_exporter": "python",
   "pygments_lexer": "ipython3",
   "version": "3.10.12"
  }
 },
 "nbformat": 4,
 "nbformat_minor": 5
}
