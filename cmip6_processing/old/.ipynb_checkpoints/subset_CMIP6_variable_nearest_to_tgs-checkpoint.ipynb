{
 "cells": [
  {
   "cell_type": "code",
   "execution_count": 1,
   "id": "9f0ff811-96d3-4c4b-ae9c-5c34ea682794",
   "metadata": {},
   "outputs": [
    {
     "name": "stderr",
     "output_type": "stream",
     "text": [
      "/tmp/ipykernel_8058/2135893498.py:8: TqdmExperimentalWarning: Using `tqdm.autonotebook.tqdm` in notebook mode. Use `tqdm.tqdm` instead to force console mode (e.g. in jupyter console)\n",
      "  from tqdm.autonotebook import tqdm\n"
     ]
    },
    {
     "data": {
      "text/plain": [
       "'script to get CMIP6 datatsets at grid cells nearest to tide gauges and store them'"
      ]
     },
     "execution_count": 1,
     "metadata": {},
     "output_type": "execute_result"
    }
   ],
   "source": [
    "import numpy as np\n",
    "import xarray as xr\n",
    "import dask\n",
    "import intake\n",
    "import pandas as pd\n",
    "import os\n",
    "from collections import defaultdict\n",
    "from tqdm.autonotebook import tqdm\n",
    "from xmip.utils import google_cmip_col\n",
    "from xmip.postprocessing import combine_datasets, _match_datasets,_concat_sorted_time\n",
    "from cmip_catalogue_operations import reduce_cat_to_max_num_realizations, drop_vars_from_cat\n",
    "from cmip_ds_dict_operations import preselect_years, pr_flux_to_m, drop_duplicate_timesteps, drop_coords\n",
    "import gcsfs\n",
    "fs = gcsfs.GCSFileSystem() #list stores, stripp zarr from filename, load \n",
    "'''script to get CMIP6 datatsets at grid cells nearest to tide gauges and store them'''"
   ]
  },
  {
   "cell_type": "code",
   "execution_count": 2,
   "id": "275aec62-ab17-43c9-bea6-ba3917c6ed39",
   "metadata": {},
   "outputs": [],
   "source": [
    "#combine_datasets() work around to merge variables into datasets that have not exactly matching coordinates but are supposed to have the same grid\n",
    "def align_lonlat(ds_list):\n",
    "    aligned_ds_list = []\n",
    "    for ds in ds_list: #list of ds can't seem to be passed to xr.align instead\n",
    "        a,b = xr.align(ds_list[0],ds,join='override',exclude=['time','member_id'])\n",
    "        aligned_ds_list.append(b)\n",
    "    return aligned_ds_list\n",
    "\n",
    "def merge_variables_aligning_lonlat(ds_list):\n",
    "    aligned_ds_list = align_lonlat(ds_list) #override same-dimension lon/lat prior to concatenating (ensures lon/lats are not padded)\n",
    "    return xr.merge(aligned_ds_list, join='outer',compat='override')"
   ]
  },
  {
   "cell_type": "code",
   "execution_count": 3,
   "id": "5bed2f12-9b92-4110-aa12-7a045937e76c",
   "metadata": {},
   "outputs": [],
   "source": [
    "def get_lonlat_idx_nearest_to_tgs(tg_ds,ds):\n",
    "    '''\n",
    "    tg_ds = xr.DataSet containing 'lon' and 'lat' coordinates of tide gauges\n",
    "    ds    = xr.DataSet containing CMIP6 data to subset\n",
    "    '''\n",
    "    \n",
    "    lon_name = list(k for k in ds.dims if 'lon' in k)[0] #find lon/lat coordinate names\n",
    "    lat_name = list(k for k in ds.dims if 'lat' in k)[0]\n",
    "    \n",
    "    #compute distances between TG coordinates and grid cell centers\n",
    "    distances = 2*np.arcsin( np.sqrt(\n",
    "        np.sin( (np.pi/180) * 0.5*(ds[lat_name]-tg_ds.lat) )**2 +\n",
    "        np.cos((np.pi/180)*tg_ds.lat)*np.cos((np.pi/180)*ds[lat_name])*np.sin((np.pi/180)*0.5*(ds[lon_name]-tg_ds.lon))**2) )\n",
    "    \n",
    "    idx_nearest = distances.argmin(dim=[lon_name,lat_name]) #find indices of nearest grid cells\n",
    "    '''\n",
    "    ds_subsetted = ds[idx_nearest] #subset ds at nearest grid cells\n",
    "    \n",
    "    ds_subsetted = ds_subsetted.rename_vars({'lon':'gridcell_lon','lat':'gridcell_lat'}) #keep coordinates of nearest grid cells\n",
    "    ds_subsetted = ds_subsetted.assign_coords(lon=tg_ds.lon,lat=tg_ds.lat) #replace coordinates with TG coordinates\n",
    "    '''\n",
    "    return idx_nearest"
   ]
  },
  {
   "cell_type": "markdown",
   "id": "8b0a5ed7-c683-4c1e-818f-946d4d7bcb43",
   "metadata": {},
   "source": [
    "Query simulations & manipulate data catalogue:"
   ]
  },
  {
   "cell_type": "code",
   "execution_count": 4,
   "id": "0e4d6c24-cedc-439a-b12c-30110aaaa899",
   "metadata": {},
   "outputs": [],
   "source": [
    "variable = 'sfcWind' #variable to obtain data for\n",
    "query_vars = ['sfcWind','pr','psl'] #variables models simulations are required to provide\n",
    "\n",
    "''' models with relatively high resolution can be queried using: source_id=highRes_Models in col.search()\n",
    "highRes_models = ['BCC-CSM2-MR','CESM2','CESM2-WACCM','CMCC-ESM2','CMCC-CM2-SR5','EC-Earth3',\n",
    "                'GFDL-CM4','GFDL-ESM4','HadGEM3-GC31-MM','MIROC6','MPI-ESM1-2-HR','MRI-ESM2-0',\n",
    "                'NorESM2-MM','TaiESM1']\n",
    "'''\n",
    "col = google_cmip_col() #xmip wrapper\n",
    "\n",
    "#need to do this for each SSP separately as availability may differ between them\n",
    "cat_data_ssp245 = col.search( #find instances providing all required query_vars for both historical & ssp245 experiments\n",
    "    experiment_id=['historical','ssp245'],\n",
    "    table_id='day',\n",
    "    variable_id=query_vars,\n",
    "    require_all_on=['source_id', 'member_id','grid_label'])\n",
    "\n",
    "cat_data_ssp585 = col.search( #find instances providing all required query_vars for both historical & ssp585 experiments\n",
    "    experiment_id=['historical','ssp585'],\n",
    "    table_id='day',\n",
    "    variable_id=query_vars,\n",
    "    require_all_on=['source_id', 'member_id','grid_label'])\n",
    "\n",
    "cat_data = cat_data_ssp585\n",
    "cat_data.esmcat._df = pd.concat([cat_data_ssp245.df,cat_data_ssp585.df],ignore_index=True).drop_duplicates(ignore_index=True)\n",
    "cat_data = reduce_cat_to_max_num_realizations(cat_data) #per model, select grid and 'ipf' combination providing most realizations\n",
    "\n",
    "query_vars.remove(variable)\n",
    "cat_data = drop_vars_from_cat(cat_data,query_vars) #only process in data for 'variable'"
   ]
  },
  {
   "cell_type": "markdown",
   "id": "df5cecae-2b3d-4a4d-a29a-752868fa9645",
   "metadata": {},
   "source": [
    "Open datasets into dictionary:"
   ]
  },
  {
   "cell_type": "code",
   "execution_count": 5,
   "id": "190fdaf1-4226-4f53-a1c6-ef0fe8a22b5b",
   "metadata": {},
   "outputs": [
    {
     "name": "stderr",
     "output_type": "stream",
     "text": [
      "/tmp/ipykernel_8058/3326101122.py:6: DeprecationWarning: cdf_kwargs and zarr_kwargs are deprecated and will be removed in a future version. Please use xarray_open_kwargs instead.\n",
      "  ddict = cat_data.to_dataset_dict(**kwargs) #open datasets into dictionary\n"
     ]
    },
    {
     "name": "stdout",
     "output_type": "stream",
     "text": [
      "\n",
      "--> The keys in the returned dictionary of datasets are constructed as follows:\n",
      "\t'activity_id.institution_id.source_id.experiment_id.member_id.table_id.variable_id.grid_label.zstore.dcpp_init_year.version'\n"
     ]
    },
    {
     "data": {
      "text/html": [
       "\n",
       "<style>\n",
       "    /* Turns off some styling */\n",
       "    progress {\n",
       "        /* gets rid of default border in Firefox and Opera. */\n",
       "        border: none;\n",
       "        /* Needs to be in here for Safari polyfill so background images work as expected. */\n",
       "        background-size: auto;\n",
       "    }\n",
       "    progress:not([value]), progress:not([value])::-webkit-progress-bar {\n",
       "        background: repeating-linear-gradient(45deg, #7e7e7e, #7e7e7e 10px, #5c5c5c 10px, #5c5c5c 20px);\n",
       "    }\n",
       "    .progress-bar-interrupted, .progress-bar-interrupted::-webkit-progress-bar {\n",
       "        background: #F44336;\n",
       "    }\n",
       "</style>\n"
      ],
      "text/plain": [
       "<IPython.core.display.HTML object>"
      ]
     },
     "metadata": {},
     "output_type": "display_data"
    },
    {
     "data": {
      "text/html": [
       "\n",
       "    <div>\n",
       "      <progress value='395' class='' max='395' style='width:300px; height:20px; vertical-align: middle;'></progress>\n",
       "      100.00% [395/395 00:45&lt;00:00]\n",
       "    </div>\n",
       "    "
      ],
      "text/plain": [
       "<IPython.core.display.HTML object>"
      ]
     },
     "metadata": {},
     "output_type": "display_data"
    }
   ],
   "source": [
    "cat_data.esmcat.aggregation_control.groupby_attrs = [] #to circumvent aggregate=false bug\n",
    "\n",
    "#to avoid this issue: https://github.com/intake/intake-esm/issues/496\n",
    "    #doesn't actually aggregate if we set cmip6_cat.esmcat.aggregation_control.groupby_attrs = []\n",
    "kwargs = {'zarr_kwargs':{'consolidated':True,'use_cftime':True},'aggregate':True} #keyword arguments for generating dictionary of datasets from cmip6 catalogue\n",
    "ddict = cat_data.to_dataset_dict(**kwargs) #open datasets into dictionary"
   ]
  },
  {
   "cell_type": "markdown",
   "id": "4ff9f6f1-8b0a-4e6a-922b-cc9461aba1c7",
   "metadata": {},
   "source": [
    "**NB: I don't seem to need any preprocessing. If I turn it on I get a lot of renaming failed warnings.**"
   ]
  },
  {
   "cell_type": "code",
   "execution_count": 6,
   "id": "9769a6a5-dbb9-42d8-8119-81d044abce1b",
   "metadata": {},
   "outputs": [
    {
     "name": "stdout",
     "output_type": "stream",
     "text": [
      "Dropping duplicate timesteps for:ScenarioMIP.NCAR.CESM2-WACCM.ssp585.r1i1p1f1.day.sfcWind.gn.gs://cmip6/CMIP6/ScenarioMIP/NCAR/CESM2-WACCM/ssp585/r1i1p1f1/day/sfcWind/gn/v20200702/.nan.20200702\n"
     ]
    }
   ],
   "source": [
    "if variable=='pr':\n",
    "    ddict = pr_flux_to_m(ddict) #convert pr flux to accumulated pr\n",
    "ddict = drop_duplicate_timesteps(ddict) #CESM2-WACCM has duplicate timesteps\n",
    "ddict = preselect_years(ddict,1850,2100) #some models have time series until post-2100, we exclude those here\n",
    "ddict = drop_coords(ddict,['bnds','nbnd'])"
   ]
  },
  {
   "cell_type": "code",
   "execution_count": 7,
   "id": "9e9c0b5a-3f22-4e77-ba19-f27f7b9fe58b",
   "metadata": {},
   "outputs": [],
   "source": [
    "with dask.config.set(**{'array.slicing.split_large_chunks': True}): #join=outer pads NaNs which result in large chunks for timeseries that differ in length\n",
    "    ddict_merged = combine_datasets(ddict,merge_variables_aligning_lonlat,match_attrs=['source_id', 'grid_label', 'experiment_id', 'table_id','variant_label']) #group datasets of same model"
   ]
  },
  {
   "cell_type": "markdown",
   "id": "2d92478f-f7ec-4177-878f-efe18bd294f0",
   "metadata": {},
   "source": [
    "Do the subsetting at grid cells nearest to the tide gauges:"
   ]
  },
  {
   "cell_type": "code",
   "execution_count": 21,
   "id": "cba17baf-805b-4e10-a073-7c5217cca98c",
   "metadata": {},
   "outputs": [
    {
     "data": {
      "application/vnd.jupyter.widget-view+json": {
       "model_id": "d42742e29088462db39426a5ab4c45e9",
       "version_major": 2,
       "version_minor": 0
      },
      "text/plain": [
       "  0%|          | 0/395 [00:00<?, ?it/s]"
      ]
     },
     "metadata": {},
     "output_type": "display_data"
    }
   ],
   "source": [
    "ddict_at_tgs = defaultdict(dict)\n",
    "tg_coords = xr.open_dataset('/home/jovyan/CMIP6cex/cmip6_processing/gssr_mlr_coefs_1p5_9deg_codec.nc') #contains TG coordinates\n",
    "\n",
    "for key,ds in tqdm(ddict_merged.items()):\n",
    "    model_path = os.path.join('leap-persistent/timh37/CMIP6/subsetted_data_test/'+variable+'_tgs/',ds.source_id)\n",
    "    \n",
    "    ds = ds.isel(dcpp_init_year=0,drop=True) #get rid of dcpp_init_year dimension\n",
    "    ds.attrs[\"original_key\"] = key\n",
    "    \n",
    "    #ds['sfcWind']=ds['sfcWind'].chunk({'member_id':1,'time':100000})\n",
    "    idx_nearest = get_lonlat_idx_nearest_to_tgs(tg_coords,ds)\n",
    "    \n",
    "    lon_name = list(k for k in ds.dims if 'lon' in k)[0] #find lon/lat coordinate names\n",
    "    lat_name = list(k for k in ds.dims if 'lat' in k)[0]\n",
    "    \n",
    "    ds_tgs = ds.isel({lat_name:idx_nearest[lat_name],lon_name:idx_nearest[lon_name]})\n",
    "    \n",
    "    del ds_tgs[variable].encoding['chunks']\n",
    "    \n",
    "    try:\n",
    "        ds_tgs.to_zarr(os.path.join('gs://',model_path,key.replace('.','_')+'.zarr'),mode='w')\n",
    "    except:\n",
    "        ds_tgs.chunk({'time':200}).to_zarr(os.path.join('gs://',model_path,key.replace('.','_')+'.zarr'),mode='w')\n",
    "    ds_tgs.close()"
   ]
  },
  {
   "cell_type": "code",
   "execution_count": 20,
   "id": "d59a9738-1583-4f66-b60a-c535c7d2203a",
   "metadata": {
    "tags": []
   },
   "outputs": [
    {
     "data": {
      "text/plain": [
       "['IPSL-CM6A-LR.gr.historical.day.r2i1p1f1',\n",
       " 'KACE-1-0-G.gr.ssp585.day.r2i1p1f1',\n",
       " 'CanESM5.gn.ssp245.day.r23i1p1f1',\n",
       " 'EC-Earth3-Veg.gr.ssp245.day.r5i1p1f1',\n",
       " 'EC-Earth3.gr.ssp245.day.r127i1p1f1',\n",
       " 'MPI-ESM1-2-LR.gn.ssp245.day.r6i1p1f1',\n",
       " 'MPI-ESM1-2-LR.gn.ssp245.day.r7i1p1f1',\n",
       " 'CanESM5.gn.ssp245.day.r15i1p1f1',\n",
       " 'CanESM5.gn.historical.day.r6i1p1f1',\n",
       " 'EC-Earth3.gr.ssp245.day.r144i1p1f1',\n",
       " 'CanESM5.gn.ssp245.day.r25i1p1f1',\n",
       " 'EC-Earth3.gr.ssp585.day.r113i1p1f1',\n",
       " 'HadGEM3-GC31-MM.gn.historical.day.r4i1p1f3',\n",
       " 'EC-Earth3.gr.ssp245.day.r119i1p1f1',\n",
       " 'INM-CM5-0.gr1.ssp245.day.r1i1p1f1',\n",
       " 'EC-Earth3.gr.historical.day.r130i1p1f1',\n",
       " 'MPI-ESM1-2-LR.gn.historical.day.r6i1p1f1',\n",
       " 'EC-Earth3.gr.historical.day.r108i1p1f1',\n",
       " 'UKESM1-0-LL.gn.ssp585.day.r2i1p1f2',\n",
       " 'EC-Earth3.gr.ssp585.day.r112i1p1f1',\n",
       " 'EC-Earth3.gr.historical.day.r144i1p1f1',\n",
       " 'UKESM1-0-LL.gn.ssp245.day.r2i1p1f2',\n",
       " 'CESM2.gn.historical.day.r4i1p1f1',\n",
       " 'CanESM5.gn.historical.day.r22i1p1f1',\n",
       " 'EC-Earth3.gr.ssp585.day.r114i1p1f1']"
      ]
     },
     "execution_count": 20,
     "metadata": {},
     "output_type": "execute_result"
    }
   ],
   "source": []
  },
  {
   "cell_type": "code",
   "execution_count": null,
   "id": "b801483f-9b7d-4144-981f-fd768d2659c1",
   "metadata": {},
   "outputs": [],
   "source": []
  }
 ],
 "metadata": {
  "kernelspec": {
   "display_name": "Python 3 (ipykernel)",
   "language": "python",
   "name": "python3"
  },
  "language_info": {
   "codemirror_mode": {
    "name": "ipython",
    "version": 3
   },
   "file_extension": ".py",
   "mimetype": "text/x-python",
   "name": "python",
   "nbconvert_exporter": "python",
   "pygments_lexer": "ipython3",
   "version": "3.10.11"
  }
 },
 "nbformat": 4,
 "nbformat_minor": 5
}
