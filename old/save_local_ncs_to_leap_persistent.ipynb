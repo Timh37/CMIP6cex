{
 "cells": [
  {
   "cell_type": "code",
   "execution_count": 4,
   "id": "b8a9960e-6f8b-4542-9409-f2852f422a27",
   "metadata": {},
   "outputs": [],
   "source": [
    "import gcsfs\n",
    "import xarray as xr\n",
    "import os\n",
    "import fnmatch\n",
    "from tqdm.autonotebook import tqdm  # Fancy progress bars for our loops!\n",
    "#to delete things use fs.delete('gs://leap-persistent/timh37/bucket_to_delete',recursive=True)\n",
    "fs = gcsfs.GCSFileSystem() # equivalent to fsspec.fs('gs')\n"
   ]
  },
  {
   "cell_type": "code",
   "execution_count": 2,
   "id": "92629ced-481f-42a9-8b38-bb64b8ca12b6",
   "metadata": {},
   "outputs": [],
   "source": [
    "results_dir = 'timeseries'\n",
    "in_dir = os.path.join('/home/jovyan/CMIP6cf/output/',results_dir)\n",
    "\n",
    "dirs = [k for k in os.listdir(in_dir) if not k.startswith('.')]\n"
   ]
  },
  {
   "cell_type": "code",
   "execution_count": 3,
   "id": "76ea4f1f-d744-4af3-b45b-91b0e8dbeeeb",
   "metadata": {},
   "outputs": [
    {
     "data": {
      "application/vnd.jupyter.widget-view+json": {
       "model_id": "52f39a54562646f48e3c97098ae70d63",
       "version_major": 2,
       "version_minor": 0
      },
      "text/plain": [
       "  0%|          | 0/13 [00:00<?, ?it/s]"
      ]
     },
     "metadata": {},
     "output_type": "display_data"
    },
    {
     "name": "stdout",
     "output_type": "stream",
     "text": [
      "Writing: gs://leap-persistent/timh37/CMIP6/timeseries/sfcWind_europe/CMCC-ESM2/CMCC-ESM2_gn_day_ssp245.zarr\n",
      "Writing: gs://leap-persistent/timh37/CMIP6/timeseries/sfcWind_europe/CMCC-ESM2/CMCC-ESM2_gn_day_ssp585.zarr\n",
      "Writing: gs://leap-persistent/timh37/CMIP6/timeseries/sfcWind_europe/MRI-ESM2-0/MRI-ESM2-0_gn_day_ssp585.zarr\n",
      "Writing: gs://leap-persistent/timh37/CMIP6/timeseries/sfcWind_europe/MRI-ESM2-0/MRI-ESM2-0_gn_day_ssp245.zarr\n",
      "Writing: gs://leap-persistent/timh37/CMIP6/timeseries/sfcWind_europe/EC-Earth3/EC-Earth3_gr_day_ssp585.zarr\n",
      "Writing: gs://leap-persistent/timh37/CMIP6/timeseries/sfcWind_europe/EC-Earth3/EC-Earth3_gr_day_ssp245.zarr\n",
      "Writing: gs://leap-persistent/timh37/CMIP6/timeseries/sfcWind_europe/GFDL-CM4/GFDL-CM4_gr1_day_ssp245.zarr\n",
      "Writing: gs://leap-persistent/timh37/CMIP6/timeseries/sfcWind_europe/GFDL-CM4/GFDL-CM4_gr1_day_ssp585.zarr\n",
      "Writing: gs://leap-persistent/timh37/CMIP6/timeseries/sfcWind_europe/CESM2/CESM2_gn_day_ssp245.zarr\n",
      "Writing: gs://leap-persistent/timh37/CMIP6/timeseries/sfcWind_europe/CESM2/CESM2_gn_day_ssp585.zarr\n",
      "Writing: gs://leap-persistent/timh37/CMIP6/timeseries/sfcWind_europe/NorESM2-MM/NorESM2-MM_gn_day_ssp245.zarr\n",
      "Writing: gs://leap-persistent/timh37/CMIP6/timeseries/sfcWind_europe/NorESM2-MM/NorESM2-MM_gn_day_ssp585.zarr\n",
      "Writing: gs://leap-persistent/timh37/CMIP6/timeseries/sfcWind_europe/HadGEM3-GC31-MM/HadGEM3-GC31-MM_gn_day_ssp585.zarr\n",
      "Writing: gs://leap-persistent/timh37/CMIP6/timeseries/sfcWind_europe/MIROC6/MIROC6_gn_day_ssp245.zarr\n",
      "Writing: gs://leap-persistent/timh37/CMIP6/timeseries/sfcWind_europe/MIROC6/MIROC6_gn_day_ssp585.zarr\n",
      "Writing: gs://leap-persistent/timh37/CMIP6/timeseries/sfcWind_europe/CESM2-WACCM/CESM2-WACCM_gn_day_ssp245.zarr\n",
      "Writing: gs://leap-persistent/timh37/CMIP6/timeseries/sfcWind_europe/CESM2-WACCM/CESM2-WACCM_gn_day_ssp585.zarr\n",
      "Writing: gs://leap-persistent/timh37/CMIP6/timeseries/sfcWind_europe/TaiESM1/TaiESM1_gn_day_ssp245.zarr\n",
      "Writing: gs://leap-persistent/timh37/CMIP6/timeseries/sfcWind_europe/TaiESM1/TaiESM1_gn_day_ssp585.zarr\n",
      "Writing: gs://leap-persistent/timh37/CMIP6/timeseries/sfcWind_europe/CMCC-CM2-SR5/CMCC-CM2-SR5_gn_day_ssp585.zarr\n",
      "Writing: gs://leap-persistent/timh37/CMIP6/timeseries/sfcWind_europe/CMCC-CM2-SR5/CMCC-CM2-SR5_gn_day_ssp245.zarr\n",
      "Writing: gs://leap-persistent/timh37/CMIP6/timeseries/sfcWind_europe/GFDL-ESM4/GFDL-ESM4_gr1_day_ssp585.zarr\n",
      "Writing: gs://leap-persistent/timh37/CMIP6/timeseries/sfcWind_europe/GFDL-ESM4/GFDL-ESM4_gr1_day_ssp245.zarr\n",
      "Writing: gs://leap-persistent/timh37/CMIP6/timeseries/sfcWind_europe/MPI-ESM1-2-HR/MPI-ESM1-2-HR_gn_day_ssp585.zarr\n",
      "Writing: gs://leap-persistent/timh37/CMIP6/timeseries/sfcWind_europe/MPI-ESM1-2-HR/MPI-ESM1-2-HR_gn_day_ssp245.zarr\n"
     ]
    },
    {
     "data": {
      "application/vnd.jupyter.widget-view+json": {
       "model_id": "0311129a11fb43a697ff9dcd4b1d1c0b",
       "version_major": 2,
       "version_minor": 0
      },
      "text/plain": [
       "  0%|          | 0/13 [00:00<?, ?it/s]"
      ]
     },
     "metadata": {},
     "output_type": "display_data"
    },
    {
     "name": "stdout",
     "output_type": "stream",
     "text": [
      "Writing: gs://leap-persistent/timh37/CMIP6/timeseries/pr_tgs/CMCC-ESM2/CMCC-ESM2_gn_day_ssp245.zarr\n",
      "Writing: gs://leap-persistent/timh37/CMIP6/timeseries/pr_tgs/CMCC-ESM2/CMCC-ESM2_gn_day_ssp585.zarr\n",
      "Writing: gs://leap-persistent/timh37/CMIP6/timeseries/pr_tgs/MRI-ESM2-0/MRI-ESM2-0_gn_day_ssp585.zarr\n",
      "Writing: gs://leap-persistent/timh37/CMIP6/timeseries/pr_tgs/MRI-ESM2-0/MRI-ESM2-0_gn_day_ssp245.zarr\n",
      "Writing: gs://leap-persistent/timh37/CMIP6/timeseries/pr_tgs/EC-Earth3/EC-Earth3_gr_day_ssp585.zarr\n",
      "Writing: gs://leap-persistent/timh37/CMIP6/timeseries/pr_tgs/EC-Earth3/EC-Earth3_gr_day_ssp245.zarr\n",
      "Writing: gs://leap-persistent/timh37/CMIP6/timeseries/pr_tgs/GFDL-CM4/GFDL-CM4_gr1_day_ssp245.zarr\n",
      "Writing: gs://leap-persistent/timh37/CMIP6/timeseries/pr_tgs/GFDL-CM4/GFDL-CM4_gr1_day_ssp585.zarr\n",
      "Writing: gs://leap-persistent/timh37/CMIP6/timeseries/pr_tgs/CESM2/CESM2_gn_day_ssp245.zarr\n",
      "Writing: gs://leap-persistent/timh37/CMIP6/timeseries/pr_tgs/CESM2/CESM2_gn_day_ssp585.zarr\n",
      "Writing: gs://leap-persistent/timh37/CMIP6/timeseries/pr_tgs/NorESM2-MM/NorESM2-MM_gn_day_ssp245.zarr\n",
      "Writing: gs://leap-persistent/timh37/CMIP6/timeseries/pr_tgs/NorESM2-MM/NorESM2-MM_gn_day_ssp585.zarr\n",
      "Writing: gs://leap-persistent/timh37/CMIP6/timeseries/pr_tgs/HadGEM3-GC31-MM/HadGEM3-GC31-MM_gn_day_ssp585.zarr\n",
      "Writing: gs://leap-persistent/timh37/CMIP6/timeseries/pr_tgs/MIROC6/MIROC6_gn_day_ssp245.zarr\n",
      "Writing: gs://leap-persistent/timh37/CMIP6/timeseries/pr_tgs/MIROC6/MIROC6_gn_day_ssp585.zarr\n",
      "Writing: gs://leap-persistent/timh37/CMIP6/timeseries/pr_tgs/CESM2-WACCM/CESM2-WACCM_gn_day_ssp245.zarr\n",
      "Writing: gs://leap-persistent/timh37/CMIP6/timeseries/pr_tgs/CESM2-WACCM/CESM2-WACCM_gn_day_ssp585.zarr\n",
      "Writing: gs://leap-persistent/timh37/CMIP6/timeseries/pr_tgs/TaiESM1/TaiESM1_gn_day_ssp245.zarr\n",
      "Writing: gs://leap-persistent/timh37/CMIP6/timeseries/pr_tgs/TaiESM1/TaiESM1_gn_day_ssp585.zarr\n",
      "Writing: gs://leap-persistent/timh37/CMIP6/timeseries/pr_tgs/CMCC-CM2-SR5/CMCC-CM2-SR5_gn_day_ssp585.zarr\n",
      "Writing: gs://leap-persistent/timh37/CMIP6/timeseries/pr_tgs/CMCC-CM2-SR5/CMCC-CM2-SR5_gn_day_ssp245.zarr\n",
      "Writing: gs://leap-persistent/timh37/CMIP6/timeseries/pr_tgs/GFDL-ESM4/GFDL-ESM4_gr1_day_ssp585.zarr\n",
      "Writing: gs://leap-persistent/timh37/CMIP6/timeseries/pr_tgs/GFDL-ESM4/GFDL-ESM4_gr1_day_ssp245.zarr\n",
      "Writing: gs://leap-persistent/timh37/CMIP6/timeseries/pr_tgs/MPI-ESM1-2-HR/MPI-ESM1-2-HR_gn_day_ssp585.zarr\n",
      "Writing: gs://leap-persistent/timh37/CMIP6/timeseries/pr_tgs/MPI-ESM1-2-HR/MPI-ESM1-2-HR_gn_day_ssp245.zarr\n"
     ]
    },
    {
     "data": {
      "application/vnd.jupyter.widget-view+json": {
       "model_id": "f341649e442c45f99b5ad878a856edb3",
       "version_major": 2,
       "version_minor": 0
      },
      "text/plain": [
       "  0%|          | 0/13 [00:00<?, ?it/s]"
      ]
     },
     "metadata": {},
     "output_type": "display_data"
    },
    {
     "name": "stdout",
     "output_type": "stream",
     "text": [
      "Writing: gs://leap-persistent/timh37/CMIP6/timeseries/sfcWind_tgs/CMCC-ESM2/CMCC-ESM2_gn_day_ssp245.zarr\n",
      "Writing: gs://leap-persistent/timh37/CMIP6/timeseries/sfcWind_tgs/CMCC-ESM2/CMCC-ESM2_gn_day_ssp585.zarr\n",
      "Writing: gs://leap-persistent/timh37/CMIP6/timeseries/sfcWind_tgs/MRI-ESM2-0/MRI-ESM2-0_gn_day_ssp585.zarr\n",
      "Writing: gs://leap-persistent/timh37/CMIP6/timeseries/sfcWind_tgs/MRI-ESM2-0/MRI-ESM2-0_gn_day_ssp245.zarr\n",
      "Writing: gs://leap-persistent/timh37/CMIP6/timeseries/sfcWind_tgs/EC-Earth3/EC-Earth3_gr_day_ssp585.zarr\n",
      "Writing: gs://leap-persistent/timh37/CMIP6/timeseries/sfcWind_tgs/EC-Earth3/EC-Earth3_gr_day_ssp245.zarr\n",
      "Writing: gs://leap-persistent/timh37/CMIP6/timeseries/sfcWind_tgs/GFDL-CM4/GFDL-CM4_gr1_day_ssp245.zarr\n",
      "Writing: gs://leap-persistent/timh37/CMIP6/timeseries/sfcWind_tgs/GFDL-CM4/GFDL-CM4_gr1_day_ssp585.zarr\n",
      "Writing: gs://leap-persistent/timh37/CMIP6/timeseries/sfcWind_tgs/CESM2/CESM2_gn_day_ssp245.zarr\n",
      "Writing: gs://leap-persistent/timh37/CMIP6/timeseries/sfcWind_tgs/CESM2/CESM2_gn_day_ssp585.zarr\n",
      "Writing: gs://leap-persistent/timh37/CMIP6/timeseries/sfcWind_tgs/NorESM2-MM/NorESM2-MM_gn_day_ssp245.zarr\n",
      "Writing: gs://leap-persistent/timh37/CMIP6/timeseries/sfcWind_tgs/NorESM2-MM/NorESM2-MM_gn_day_ssp585.zarr\n",
      "Writing: gs://leap-persistent/timh37/CMIP6/timeseries/sfcWind_tgs/HadGEM3-GC31-MM/HadGEM3-GC31-MM_gn_day_ssp585.zarr\n",
      "Writing: gs://leap-persistent/timh37/CMIP6/timeseries/sfcWind_tgs/MIROC6/MIROC6_gn_day_ssp245.zarr\n",
      "Writing: gs://leap-persistent/timh37/CMIP6/timeseries/sfcWind_tgs/MIROC6/MIROC6_gn_day_ssp585.zarr\n",
      "Writing: gs://leap-persistent/timh37/CMIP6/timeseries/sfcWind_tgs/CESM2-WACCM/CESM2-WACCM_gn_day_ssp245.zarr\n",
      "Writing: gs://leap-persistent/timh37/CMIP6/timeseries/sfcWind_tgs/CESM2-WACCM/CESM2-WACCM_gn_day_ssp585.zarr\n",
      "Writing: gs://leap-persistent/timh37/CMIP6/timeseries/sfcWind_tgs/TaiESM1/TaiESM1_gn_day_ssp245.zarr\n",
      "Writing: gs://leap-persistent/timh37/CMIP6/timeseries/sfcWind_tgs/TaiESM1/TaiESM1_gn_day_ssp585.zarr\n",
      "Writing: gs://leap-persistent/timh37/CMIP6/timeseries/sfcWind_tgs/CMCC-CM2-SR5/CMCC-CM2-SR5_gn_day_ssp585.zarr\n",
      "Writing: gs://leap-persistent/timh37/CMIP6/timeseries/sfcWind_tgs/CMCC-CM2-SR5/CMCC-CM2-SR5_gn_day_ssp245.zarr\n",
      "Writing: gs://leap-persistent/timh37/CMIP6/timeseries/sfcWind_tgs/GFDL-ESM4/GFDL-ESM4_gr1_day_ssp585.zarr\n",
      "Writing: gs://leap-persistent/timh37/CMIP6/timeseries/sfcWind_tgs/GFDL-ESM4/GFDL-ESM4_gr1_day_ssp245.zarr\n",
      "Writing: gs://leap-persistent/timh37/CMIP6/timeseries/sfcWind_tgs/MPI-ESM1-2-HR/MPI-ESM1-2-HR_gn_day_ssp585.zarr\n",
      "Writing: gs://leap-persistent/timh37/CMIP6/timeseries/sfcWind_tgs/MPI-ESM1-2-HR/MPI-ESM1-2-HR_gn_day_ssp245.zarr\n"
     ]
    },
    {
     "data": {
      "application/vnd.jupyter.widget-view+json": {
       "model_id": "b37e9db9c63d4cdaabb68f7fb8e26a9a",
       "version_major": 2,
       "version_minor": 0
      },
      "text/plain": [
       "  0%|          | 0/13 [00:00<?, ?it/s]"
      ]
     },
     "metadata": {},
     "output_type": "display_data"
    },
    {
     "name": "stdout",
     "output_type": "stream",
     "text": [
      "Writing: gs://leap-persistent/timh37/CMIP6/timeseries/surge_tgs/CMCC-ESM2/CMCC-ESM2_gn_day_ssp245.zarr\n",
      "Writing: gs://leap-persistent/timh37/CMIP6/timeseries/surge_tgs/CMCC-ESM2/CMCC-ESM2_gn_day_ssp585.zarr\n",
      "Writing: gs://leap-persistent/timh37/CMIP6/timeseries/surge_tgs/MRI-ESM2-0/MRI-ESM2-0_gn_day_ssp585.zarr\n",
      "Writing: gs://leap-persistent/timh37/CMIP6/timeseries/surge_tgs/MRI-ESM2-0/MRI-ESM2-0_gn_day_ssp245.zarr\n",
      "Writing: gs://leap-persistent/timh37/CMIP6/timeseries/surge_tgs/EC-Earth3/EC-Earth3_gr_day_ssp585.zarr\n",
      "Writing: gs://leap-persistent/timh37/CMIP6/timeseries/surge_tgs/EC-Earth3/EC-Earth3_gr_day_ssp245.zarr\n",
      "Writing: gs://leap-persistent/timh37/CMIP6/timeseries/surge_tgs/GFDL-CM4/GFDL-CM4_gr1_day_ssp245.zarr\n",
      "Writing: gs://leap-persistent/timh37/CMIP6/timeseries/surge_tgs/GFDL-CM4/GFDL-CM4_gr1_day_ssp585.zarr\n",
      "Writing: gs://leap-persistent/timh37/CMIP6/timeseries/surge_tgs/CESM2/CESM2_gn_day_ssp245.zarr\n",
      "Writing: gs://leap-persistent/timh37/CMIP6/timeseries/surge_tgs/CESM2/CESM2_gn_day_ssp585.zarr\n",
      "Writing: gs://leap-persistent/timh37/CMIP6/timeseries/surge_tgs/NorESM2-MM/NorESM2-MM_gn_day_ssp245.zarr\n",
      "Writing: gs://leap-persistent/timh37/CMIP6/timeseries/surge_tgs/NorESM2-MM/NorESM2-MM_gn_day_ssp585.zarr\n",
      "Writing: gs://leap-persistent/timh37/CMIP6/timeseries/surge_tgs/HadGEM3-GC31-MM/HadGEM3-GC31-MM_gn_day_ssp585.zarr\n",
      "Writing: gs://leap-persistent/timh37/CMIP6/timeseries/surge_tgs/MIROC6/MIROC6_gn_day_ssp245.zarr\n",
      "Writing: gs://leap-persistent/timh37/CMIP6/timeseries/surge_tgs/MIROC6/MIROC6_gn_day_ssp585.zarr\n",
      "Writing: gs://leap-persistent/timh37/CMIP6/timeseries/surge_tgs/CESM2-WACCM/CESM2-WACCM_gn_day_ssp245.zarr\n",
      "Writing: gs://leap-persistent/timh37/CMIP6/timeseries/surge_tgs/CESM2-WACCM/CESM2-WACCM_gn_day_ssp585.zarr\n",
      "Writing: gs://leap-persistent/timh37/CMIP6/timeseries/surge_tgs/TaiESM1/TaiESM1_gn_day_ssp245.zarr\n",
      "Writing: gs://leap-persistent/timh37/CMIP6/timeseries/surge_tgs/TaiESM1/TaiESM1_gn_day_ssp585.zarr\n",
      "Writing: gs://leap-persistent/timh37/CMIP6/timeseries/surge_tgs/CMCC-CM2-SR5/CMCC-CM2-SR5_gn_day_ssp585.zarr\n",
      "Writing: gs://leap-persistent/timh37/CMIP6/timeseries/surge_tgs/CMCC-CM2-SR5/CMCC-CM2-SR5_gn_day_ssp245.zarr\n",
      "Writing: gs://leap-persistent/timh37/CMIP6/timeseries/surge_tgs/GFDL-ESM4/GFDL-ESM4_gr1_day_ssp585.zarr\n",
      "Writing: gs://leap-persistent/timh37/CMIP6/timeseries/surge_tgs/GFDL-ESM4/GFDL-ESM4_gr1_day_ssp245.zarr\n",
      "Writing: gs://leap-persistent/timh37/CMIP6/timeseries/surge_tgs/MPI-ESM1-2-HR/MPI-ESM1-2-HR_gn_day_ssp585.zarr\n",
      "Writing: gs://leap-persistent/timh37/CMIP6/timeseries/surge_tgs/MPI-ESM1-2-HR/MPI-ESM1-2-HR_gn_day_ssp245.zarr\n"
     ]
    },
    {
     "data": {
      "application/vnd.jupyter.widget-view+json": {
       "model_id": "1140d2ea065f4f488291bf12da260e53",
       "version_major": 2,
       "version_minor": 0
      },
      "text/plain": [
       "  0%|          | 0/13 [00:00<?, ?it/s]"
      ]
     },
     "metadata": {},
     "output_type": "display_data"
    },
    {
     "name": "stdout",
     "output_type": "stream",
     "text": [
      "Writing: gs://leap-persistent/timh37/CMIP6/timeseries/pr_europe/CMCC-ESM2/CMCC-ESM2_gn_day_ssp245.zarr\n",
      "Writing: gs://leap-persistent/timh37/CMIP6/timeseries/pr_europe/CMCC-ESM2/CMCC-ESM2_gn_day_ssp585.zarr\n",
      "Writing: gs://leap-persistent/timh37/CMIP6/timeseries/pr_europe/MRI-ESM2-0/MRI-ESM2-0_gn_day_ssp585.zarr\n",
      "Writing: gs://leap-persistent/timh37/CMIP6/timeseries/pr_europe/MRI-ESM2-0/MRI-ESM2-0_gn_day_ssp245.zarr\n",
      "Writing: gs://leap-persistent/timh37/CMIP6/timeseries/pr_europe/EC-Earth3/EC-Earth3_gr_day_ssp585.zarr\n",
      "Writing: gs://leap-persistent/timh37/CMIP6/timeseries/pr_europe/EC-Earth3/EC-Earth3_gr_day_ssp245.zarr\n",
      "Writing: gs://leap-persistent/timh37/CMIP6/timeseries/pr_europe/GFDL-CM4/GFDL-CM4_gr1_day_ssp245.zarr\n",
      "Writing: gs://leap-persistent/timh37/CMIP6/timeseries/pr_europe/GFDL-CM4/GFDL-CM4_gr1_day_ssp585.zarr\n",
      "Writing: gs://leap-persistent/timh37/CMIP6/timeseries/pr_europe/CESM2/CESM2_gn_day_ssp245.zarr\n",
      "Writing: gs://leap-persistent/timh37/CMIP6/timeseries/pr_europe/CESM2/CESM2_gn_day_ssp585.zarr\n",
      "Writing: gs://leap-persistent/timh37/CMIP6/timeseries/pr_europe/NorESM2-MM/NorESM2-MM_gn_day_ssp245.zarr\n",
      "Writing: gs://leap-persistent/timh37/CMIP6/timeseries/pr_europe/NorESM2-MM/NorESM2-MM_gn_day_ssp585.zarr\n",
      "Writing: gs://leap-persistent/timh37/CMIP6/timeseries/pr_europe/HadGEM3-GC31-MM/HadGEM3-GC31-MM_gn_day_ssp585.zarr\n",
      "Writing: gs://leap-persistent/timh37/CMIP6/timeseries/pr_europe/MIROC6/MIROC6_gn_day_ssp245.zarr\n",
      "Writing: gs://leap-persistent/timh37/CMIP6/timeseries/pr_europe/MIROC6/MIROC6_gn_day_ssp585.zarr\n",
      "Writing: gs://leap-persistent/timh37/CMIP6/timeseries/pr_europe/CESM2-WACCM/CESM2-WACCM_gn_day_ssp245.zarr\n",
      "Writing: gs://leap-persistent/timh37/CMIP6/timeseries/pr_europe/CESM2-WACCM/CESM2-WACCM_gn_day_ssp585.zarr\n",
      "Writing: gs://leap-persistent/timh37/CMIP6/timeseries/pr_europe/TaiESM1/TaiESM1_gn_day_ssp245.zarr\n",
      "Writing: gs://leap-persistent/timh37/CMIP6/timeseries/pr_europe/TaiESM1/TaiESM1_gn_day_ssp585.zarr\n",
      "Writing: gs://leap-persistent/timh37/CMIP6/timeseries/pr_europe/CMCC-CM2-SR5/CMCC-CM2-SR5_gn_day_ssp585.zarr\n",
      "Writing: gs://leap-persistent/timh37/CMIP6/timeseries/pr_europe/CMCC-CM2-SR5/CMCC-CM2-SR5_gn_day_ssp245.zarr\n",
      "Writing: gs://leap-persistent/timh37/CMIP6/timeseries/pr_europe/GFDL-ESM4/GFDL-ESM4_gr1_day_ssp585.zarr\n",
      "Writing: gs://leap-persistent/timh37/CMIP6/timeseries/pr_europe/GFDL-ESM4/GFDL-ESM4_gr1_day_ssp245.zarr\n",
      "Writing: gs://leap-persistent/timh37/CMIP6/timeseries/pr_europe/MPI-ESM1-2-HR/MPI-ESM1-2-HR_gn_day_ssp585.zarr\n",
      "Writing: gs://leap-persistent/timh37/CMIP6/timeseries/pr_europe/MPI-ESM1-2-HR/MPI-ESM1-2-HR_gn_day_ssp245.zarr\n"
     ]
    }
   ],
   "source": [
    "for d in dirs:\n",
    "    models = os.listdir(os.path.join(in_dir,d))\n",
    "    for model in tqdm(models):\n",
    "        model_dir = os.path.join(in_dir,d,model)\n",
    "        files = [k for k in os.listdir(model_dir) if k.endswith('.nc')]\n",
    "        for file in files:\n",
    "            if d.endswith('europe'):\n",
    "                ds = xr.open_dataset(os.path.join(model_dir,file),chunks={'member_id':1,'longitude':5})\n",
    "            else:\n",
    "                ds = xr.open_dataset(os.path.join(model_dir,file),chunks={'member_id':1})\n",
    "            \n",
    "            full_path_of_output = 'gs://leap-persistent/timh37/CMIP6/'+results_dir+'/'+d+'/'+model+'/'+file.replace('nc','zarr')\n",
    "            \n",
    "            print('Writing: '+full_path_of_output)\n",
    "            ds.to_zarr(full_path_of_output,mode='w') #(overwrite if exists)\n",
    "    \n",
    "    "
   ]
  },
  {
   "cell_type": "code",
   "execution_count": 8,
   "id": "d80e6e0c-12f4-4f30-9e58-6f4d39db2fef",
   "metadata": {},
   "outputs": [
    {
     "data": {
      "text/plain": [
       "['leap-persistent/timh37/CMIP6/timeseries/pr_europe/MIROC6/MIROC6_gn_day_ssp245.zarr',\n",
       " 'leap-persistent/timh37/CMIP6/timeseries/pr_europe/MIROC6/MIROC6_gn_day_ssp585.zarr']"
      ]
     },
     "execution_count": 8,
     "metadata": {},
     "output_type": "execute_result"
    }
   ],
   "source": [
    "fs.ls('gs://leap-persistent/timh37/CMIP6/timeseries/pr_europe/MIROC6')"
   ]
  },
  {
   "cell_type": "code",
   "execution_count": 6,
   "id": "f9d1bcbc-aacb-4745-ae2e-a9fbd64ce97d",
   "metadata": {},
   "outputs": [
    {
     "data": {
      "text/plain": [
       "['leap-persistent/<username>',\n",
       " 'leap-persistent/alexandrerebiere',\n",
       " 'leap-persistent/data-library',\n",
       " 'leap-persistent/dhruvbalwada',\n",
       " 'leap-persistent/dhruvbalwadaREDI2GM_data',\n",
       " 'leap-persistent/hatlenheimdalthea',\n",
       " 'leap-persistent/jbusecke',\n",
       " 'leap-persistent/jerrylin96',\n",
       " 'leap-persistent/pbluc',\n",
       " 'leap-persistent/sungdukyu',\n",
       " 'leap-persistent/tomnicholas',\n",
       " 'leap-persistent/yiqioyang']"
      ]
     },
     "execution_count": 6,
     "metadata": {},
     "output_type": "execute_result"
    }
   ],
   "source": [
    "fs.ls('gs://leap-persistent/')"
   ]
  },
  {
   "cell_type": "code",
   "execution_count": null,
   "id": "42820275-f450-4f63-bb13-f36014b8c2ff",
   "metadata": {},
   "outputs": [],
   "source": []
  }
 ],
 "metadata": {
  "kernelspec": {
   "display_name": "Python 3 (ipykernel)",
   "language": "python",
   "name": "python3"
  },
  "language_info": {
   "codemirror_mode": {
    "name": "ipython",
    "version": 3
   },
   "file_extension": ".py",
   "mimetype": "text/x-python",
   "name": "python",
   "nbconvert_exporter": "python",
   "pygments_lexer": "ipython3",
   "version": "3.10.11"
  }
 },
 "nbformat": 4,
 "nbformat_minor": 5
}
